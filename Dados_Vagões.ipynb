{
  "nbformat": 4,
  "nbformat_minor": 0,
  "metadata": {
    "colab": {
      "name": "Dados Vagões.ipynb",
      "provenance": []
    },
    "kernelspec": {
      "name": "python3",
      "display_name": "Python 3"
    },
    "language_info": {
      "name": "python"
    }
  },
  "cells": [
    {
      "cell_type": "markdown",
      "metadata": {
        "id": "FeVA1-UCKsgM"
      },
      "source": [
        "## **Teste com dados de vagões**"
      ]
    },
    {
      "cell_type": "code",
      "metadata": {
        "id": "gwHESQnaUq-F"
      },
      "source": [
        "import numpy as np\n",
        "import pandas as pd\n"
      ],
      "execution_count": 1,
      "outputs": []
    },
    {
      "cell_type": "code",
      "metadata": {
        "id": "9q3StSxJQNQV"
      },
      "source": [
        " df = pd.read_csv('/content/drive/MyDrive/Colab Notebooks/dados_vagao_NOVO.csv', sep = \";\", encoding = \"utf-8\")"
      ],
      "execution_count": 51,
      "outputs": []
    },
    {
      "cell_type": "code",
      "metadata": {
        "colab": {
          "base_uri": "https://localhost:8080/",
          "height": 141
        },
        "id": "vvC01XILQNcA",
        "outputId": "c169ea42-dcbb-4b4f-bd6f-51e0e423cf16"
      },
      "source": [
        "df.head(3)"
      ],
      "execution_count": 52,
      "outputs": [
        {
          "output_type": "execute_result",
          "data": {
            "text/html": [
              "<div>\n",
              "<style scoped>\n",
              "    .dataframe tbody tr th:only-of-type {\n",
              "        vertical-align: middle;\n",
              "    }\n",
              "\n",
              "    .dataframe tbody tr th {\n",
              "        vertical-align: top;\n",
              "    }\n",
              "\n",
              "    .dataframe thead th {\n",
              "        text-align: right;\n",
              "    }\n",
              "</style>\n",
              "<table border=\"1\" class=\"dataframe\">\n",
              "  <thead>\n",
              "    <tr style=\"text-align: right;\">\n",
              "      <th></th>\n",
              "      <th>Data</th>\n",
              "      <th>Hora</th>\n",
              "      <th>Moega</th>\n",
              "      <th>Horario</th>\n",
              "      <th>Turno</th>\n",
              "      <th>Trem</th>\n",
              "      <th>Descarga</th>\n",
              "    </tr>\n",
              "  </thead>\n",
              "  <tbody>\n",
              "    <tr>\n",
              "      <th>0</th>\n",
              "      <td>18/10/2021</td>\n",
              "      <td>16:00</td>\n",
              "      <td>D</td>\n",
              "      <td>Turno 13 - 19 h</td>\n",
              "      <td>1</td>\n",
              "      <td>AMARELO</td>\n",
              "      <td>HPT0311227</td>\n",
              "    </tr>\n",
              "    <tr>\n",
              "      <th>1</th>\n",
              "      <td>18/10/2021</td>\n",
              "      <td>16:00</td>\n",
              "      <td>D</td>\n",
              "      <td>Turno 13 - 19 h</td>\n",
              "      <td>1</td>\n",
              "      <td>AMARELO</td>\n",
              "      <td>FHS0523623</td>\n",
              "    </tr>\n",
              "    <tr>\n",
              "      <th>2</th>\n",
              "      <td>18/10/2021</td>\n",
              "      <td>16:00</td>\n",
              "      <td>D</td>\n",
              "      <td>Turno 13 - 19 h</td>\n",
              "      <td>1</td>\n",
              "      <td>AMARELO</td>\n",
              "      <td>FHS6096239</td>\n",
              "    </tr>\n",
              "  </tbody>\n",
              "</table>\n",
              "</div>"
            ],
            "text/plain": [
              "         Data   Hora Moega          Horario  Turno     Trem    Descarga\n",
              "0  18/10/2021  16:00     D  Turno 13 - 19 h      1  AMARELO  HPT0311227\n",
              "1  18/10/2021  16:00     D  Turno 13 - 19 h      1  AMARELO  FHS0523623\n",
              "2  18/10/2021  16:00     D  Turno 13 - 19 h      1  AMARELO  FHS6096239"
            ]
          },
          "metadata": {},
          "execution_count": 52
        }
      ]
    },
    {
      "cell_type": "code",
      "metadata": {
        "id": "6SnA0gmsQNxF",
        "colab": {
          "base_uri": "https://localhost:8080/"
        },
        "outputId": "96453cb4-c965-42b5-8816-6d305337f227"
      },
      "source": [
        "df.info()"
      ],
      "execution_count": 53,
      "outputs": [
        {
          "output_type": "stream",
          "name": "stdout",
          "text": [
            "<class 'pandas.core.frame.DataFrame'>\n",
            "RangeIndex: 3635 entries, 0 to 3634\n",
            "Data columns (total 7 columns):\n",
            " #   Column    Non-Null Count  Dtype \n",
            "---  ------    --------------  ----- \n",
            " 0   Data      3635 non-null   object\n",
            " 1   Hora      3635 non-null   object\n",
            " 2   Moega     3635 non-null   object\n",
            " 3   Horario   3635 non-null   object\n",
            " 4   Turno     3635 non-null   int64 \n",
            " 5   Trem      3635 non-null   object\n",
            " 6   Descarga  3635 non-null   object\n",
            "dtypes: int64(1), object(6)\n",
            "memory usage: 198.9+ KB\n"
          ]
        }
      ]
    },
    {
      "cell_type": "markdown",
      "metadata": {
        "id": "NsnQe4TN0lCk"
      },
      "source": [
        "# Nova seção"
      ]
    },
    {
      "cell_type": "code",
      "metadata": {
        "colab": {
          "base_uri": "https://localhost:8080/"
        },
        "id": "kKLOGdzGoKsc",
        "outputId": "d6963e93-a7d0-4dde-fa4a-7a3984c0467b"
      },
      "source": [
        "df.index"
      ],
      "execution_count": 54,
      "outputs": [
        {
          "output_type": "execute_result",
          "data": {
            "text/plain": [
              "RangeIndex(start=0, stop=3635, step=1)"
            ]
          },
          "metadata": {},
          "execution_count": 54
        }
      ]
    },
    {
      "cell_type": "code",
      "metadata": {
        "colab": {
          "base_uri": "https://localhost:8080/"
        },
        "id": "jhCKrwtHoSSL",
        "outputId": "9474160e-5790-4dd7-be14-e39a8f8f687f"
      },
      "source": [
        "df.columns"
      ],
      "execution_count": 55,
      "outputs": [
        {
          "output_type": "execute_result",
          "data": {
            "text/plain": [
              "Index(['Data', 'Hora', 'Moega', 'Horario', 'Turno', 'Trem', 'Descarga'], dtype='object')"
            ]
          },
          "metadata": {},
          "execution_count": 55
        }
      ]
    },
    {
      "cell_type": "code",
      "metadata": {
        "colab": {
          "base_uri": "https://localhost:8080/"
        },
        "id": "G6djXOVAoSgT",
        "outputId": "8c51e288-4047-45fa-82e7-db48f8a9ceb2"
      },
      "source": [
        "df.values"
      ],
      "execution_count": 56,
      "outputs": [
        {
          "output_type": "execute_result",
          "data": {
            "text/plain": [
              "array([['18/10/2021', '16:00', 'D', ..., 1, 'AMARELO', 'HPT0311227'],\n",
              "       ['18/10/2021', '16:00', 'D', ..., 1, 'AMARELO', 'FHS0523623'],\n",
              "       ['18/10/2021', '16:00', 'D', ..., 1, 'AMARELO', 'FHS6096239'],\n",
              "       ...,\n",
              "       ['01/10/2021', '01:50', 'D', ..., 3, 'AZUL', 'HFS7166397'],\n",
              "       ['01/10/2021', '01:49', 'D', ..., 3, 'AZUL', 'HFS7166451'],\n",
              "       ['01/10/2021', '01:28', 'D', ..., 3, 'AZUL', 'HFS7166532']],\n",
              "      dtype=object)"
            ]
          },
          "metadata": {},
          "execution_count": 56
        }
      ]
    },
    {
      "cell_type": "code",
      "metadata": {
        "colab": {
          "base_uri": "https://localhost:8080/"
        },
        "id": "MHSJtJnaoSrP",
        "outputId": "9980be5c-2163-4633-dad9-33bc10b7ad24"
      },
      "source": [
        "df.loc[1]\n",
        "       "
      ],
      "execution_count": 57,
      "outputs": [
        {
          "output_type": "execute_result",
          "data": {
            "text/plain": [
              "Data             18/10/2021\n",
              "Hora                  16:00\n",
              "Moega                     D\n",
              "Horario     Turno 13 - 19 h\n",
              "Turno                     1\n",
              "Trem                AMARELO\n",
              "Descarga         FHS0523623\n",
              "Name: 1, dtype: object"
            ]
          },
          "metadata": {},
          "execution_count": 57
        }
      ]
    },
    {
      "cell_type": "code",
      "metadata": {
        "colab": {
          "base_uri": "https://localhost:8080/",
          "height": 141
        },
        "id": "NKuy-F4JpITu",
        "outputId": "29b956c6-f072-4963-a70a-7998c8a4b79d"
      },
      "source": [
        "df.loc[[1,2,3]]"
      ],
      "execution_count": 58,
      "outputs": [
        {
          "output_type": "execute_result",
          "data": {
            "text/html": [
              "<div>\n",
              "<style scoped>\n",
              "    .dataframe tbody tr th:only-of-type {\n",
              "        vertical-align: middle;\n",
              "    }\n",
              "\n",
              "    .dataframe tbody tr th {\n",
              "        vertical-align: top;\n",
              "    }\n",
              "\n",
              "    .dataframe thead th {\n",
              "        text-align: right;\n",
              "    }\n",
              "</style>\n",
              "<table border=\"1\" class=\"dataframe\">\n",
              "  <thead>\n",
              "    <tr style=\"text-align: right;\">\n",
              "      <th></th>\n",
              "      <th>Data</th>\n",
              "      <th>Hora</th>\n",
              "      <th>Moega</th>\n",
              "      <th>Horario</th>\n",
              "      <th>Turno</th>\n",
              "      <th>Trem</th>\n",
              "      <th>Descarga</th>\n",
              "    </tr>\n",
              "  </thead>\n",
              "  <tbody>\n",
              "    <tr>\n",
              "      <th>1</th>\n",
              "      <td>18/10/2021</td>\n",
              "      <td>16:00</td>\n",
              "      <td>D</td>\n",
              "      <td>Turno 13 - 19 h</td>\n",
              "      <td>1</td>\n",
              "      <td>AMARELO</td>\n",
              "      <td>FHS0523623</td>\n",
              "    </tr>\n",
              "    <tr>\n",
              "      <th>2</th>\n",
              "      <td>18/10/2021</td>\n",
              "      <td>16:00</td>\n",
              "      <td>D</td>\n",
              "      <td>Turno 13 - 19 h</td>\n",
              "      <td>1</td>\n",
              "      <td>AMARELO</td>\n",
              "      <td>FHS6096239</td>\n",
              "    </tr>\n",
              "    <tr>\n",
              "      <th>3</th>\n",
              "      <td>18/10/2021</td>\n",
              "      <td>15:38</td>\n",
              "      <td>D</td>\n",
              "      <td>Turno 13 - 19 h</td>\n",
              "      <td>1</td>\n",
              "      <td>AMARELO</td>\n",
              "      <td>FHS6096255</td>\n",
              "    </tr>\n",
              "  </tbody>\n",
              "</table>\n",
              "</div>"
            ],
            "text/plain": [
              "         Data   Hora Moega          Horario  Turno     Trem    Descarga\n",
              "1  18/10/2021  16:00     D  Turno 13 - 19 h      1  AMARELO  FHS0523623\n",
              "2  18/10/2021  16:00     D  Turno 13 - 19 h      1  AMARELO  FHS6096239\n",
              "3  18/10/2021  15:38     D  Turno 13 - 19 h      1  AMARELO  FHS6096255"
            ]
          },
          "metadata": {},
          "execution_count": 58
        }
      ]
    },
    {
      "cell_type": "code",
      "metadata": {
        "colab": {
          "base_uri": "https://localhost:8080/",
          "height": 110
        },
        "id": "tAiAGjcOpIfv",
        "outputId": "693c330d-0ce8-449e-80aa-fbab4f481543"
      },
      "source": [
        "df.loc[[3,5], ['Moega','Turno',]]"
      ],
      "execution_count": 59,
      "outputs": [
        {
          "output_type": "execute_result",
          "data": {
            "text/html": [
              "<div>\n",
              "<style scoped>\n",
              "    .dataframe tbody tr th:only-of-type {\n",
              "        vertical-align: middle;\n",
              "    }\n",
              "\n",
              "    .dataframe tbody tr th {\n",
              "        vertical-align: top;\n",
              "    }\n",
              "\n",
              "    .dataframe thead th {\n",
              "        text-align: right;\n",
              "    }\n",
              "</style>\n",
              "<table border=\"1\" class=\"dataframe\">\n",
              "  <thead>\n",
              "    <tr style=\"text-align: right;\">\n",
              "      <th></th>\n",
              "      <th>Moega</th>\n",
              "      <th>Turno</th>\n",
              "    </tr>\n",
              "  </thead>\n",
              "  <tbody>\n",
              "    <tr>\n",
              "      <th>3</th>\n",
              "      <td>D</td>\n",
              "      <td>1</td>\n",
              "    </tr>\n",
              "    <tr>\n",
              "      <th>5</th>\n",
              "      <td>D</td>\n",
              "      <td>1</td>\n",
              "    </tr>\n",
              "  </tbody>\n",
              "</table>\n",
              "</div>"
            ],
            "text/plain": [
              "  Moega  Turno\n",
              "3     D      1\n",
              "5     D      1"
            ]
          },
          "metadata": {},
          "execution_count": 59
        }
      ]
    },
    {
      "cell_type": "code",
      "metadata": {
        "colab": {
          "base_uri": "https://localhost:8080/",
          "height": 662
        },
        "id": "niJvSTidpIo5",
        "outputId": "149a8320-44db-42a4-baca-009bff2f0f48"
      },
      "source": [
        "df.loc[1:20]"
      ],
      "execution_count": 60,
      "outputs": [
        {
          "output_type": "execute_result",
          "data": {
            "text/html": [
              "<div>\n",
              "<style scoped>\n",
              "    .dataframe tbody tr th:only-of-type {\n",
              "        vertical-align: middle;\n",
              "    }\n",
              "\n",
              "    .dataframe tbody tr th {\n",
              "        vertical-align: top;\n",
              "    }\n",
              "\n",
              "    .dataframe thead th {\n",
              "        text-align: right;\n",
              "    }\n",
              "</style>\n",
              "<table border=\"1\" class=\"dataframe\">\n",
              "  <thead>\n",
              "    <tr style=\"text-align: right;\">\n",
              "      <th></th>\n",
              "      <th>Data</th>\n",
              "      <th>Hora</th>\n",
              "      <th>Moega</th>\n",
              "      <th>Horario</th>\n",
              "      <th>Turno</th>\n",
              "      <th>Trem</th>\n",
              "      <th>Descarga</th>\n",
              "    </tr>\n",
              "  </thead>\n",
              "  <tbody>\n",
              "    <tr>\n",
              "      <th>1</th>\n",
              "      <td>18/10/2021</td>\n",
              "      <td>16:00</td>\n",
              "      <td>D</td>\n",
              "      <td>Turno 13 - 19 h</td>\n",
              "      <td>1</td>\n",
              "      <td>AMARELO</td>\n",
              "      <td>FHS0523623</td>\n",
              "    </tr>\n",
              "    <tr>\n",
              "      <th>2</th>\n",
              "      <td>18/10/2021</td>\n",
              "      <td>16:00</td>\n",
              "      <td>D</td>\n",
              "      <td>Turno 13 - 19 h</td>\n",
              "      <td>1</td>\n",
              "      <td>AMARELO</td>\n",
              "      <td>FHS6096239</td>\n",
              "    </tr>\n",
              "    <tr>\n",
              "      <th>3</th>\n",
              "      <td>18/10/2021</td>\n",
              "      <td>15:38</td>\n",
              "      <td>D</td>\n",
              "      <td>Turno 13 - 19 h</td>\n",
              "      <td>1</td>\n",
              "      <td>AMARELO</td>\n",
              "      <td>FHS6096255</td>\n",
              "    </tr>\n",
              "    <tr>\n",
              "      <th>4</th>\n",
              "      <td>18/10/2021</td>\n",
              "      <td>15:38</td>\n",
              "      <td>D</td>\n",
              "      <td>Turno 13 - 19 h</td>\n",
              "      <td>1</td>\n",
              "      <td>AMARELO</td>\n",
              "      <td>FHS6096255</td>\n",
              "    </tr>\n",
              "    <tr>\n",
              "      <th>5</th>\n",
              "      <td>18/10/2021</td>\n",
              "      <td>15:38</td>\n",
              "      <td>D</td>\n",
              "      <td>Turno 13 - 19 h</td>\n",
              "      <td>1</td>\n",
              "      <td>AMARELO</td>\n",
              "      <td>FHS6096328</td>\n",
              "    </tr>\n",
              "    <tr>\n",
              "      <th>6</th>\n",
              "      <td>18/10/2021</td>\n",
              "      <td>15:18</td>\n",
              "      <td>D</td>\n",
              "      <td>Turno 13 - 19 h</td>\n",
              "      <td>1</td>\n",
              "      <td>AMARELO</td>\n",
              "      <td>FHS6096361</td>\n",
              "    </tr>\n",
              "    <tr>\n",
              "      <th>7</th>\n",
              "      <td>18/10/2021</td>\n",
              "      <td>15:18</td>\n",
              "      <td>D</td>\n",
              "      <td>Turno 13 - 19 h</td>\n",
              "      <td>1</td>\n",
              "      <td>AMARELO</td>\n",
              "      <td>FHS6096361</td>\n",
              "    </tr>\n",
              "    <tr>\n",
              "      <th>8</th>\n",
              "      <td>18/10/2021</td>\n",
              "      <td>15:17</td>\n",
              "      <td>D</td>\n",
              "      <td>Turno 13 - 19 h</td>\n",
              "      <td>1</td>\n",
              "      <td>AMARELO</td>\n",
              "      <td>FHS6096387</td>\n",
              "    </tr>\n",
              "    <tr>\n",
              "      <th>9</th>\n",
              "      <td>18/10/2021</td>\n",
              "      <td>14:31</td>\n",
              "      <td>D</td>\n",
              "      <td>Turno 13 - 19 h</td>\n",
              "      <td>1</td>\n",
              "      <td>AMARELO</td>\n",
              "      <td>FHS6096417</td>\n",
              "    </tr>\n",
              "    <tr>\n",
              "      <th>10</th>\n",
              "      <td>18/10/2021</td>\n",
              "      <td>14:31</td>\n",
              "      <td>D</td>\n",
              "      <td>Turno 13 - 19 h</td>\n",
              "      <td>1</td>\n",
              "      <td>AMARELO</td>\n",
              "      <td>FHS6096441</td>\n",
              "    </tr>\n",
              "    <tr>\n",
              "      <th>11</th>\n",
              "      <td>18/10/2021</td>\n",
              "      <td>14:30</td>\n",
              "      <td>D</td>\n",
              "      <td>Turno 13 - 19 h</td>\n",
              "      <td>1</td>\n",
              "      <td>AMARELO</td>\n",
              "      <td>FHS6096484</td>\n",
              "    </tr>\n",
              "    <tr>\n",
              "      <th>12</th>\n",
              "      <td>18/10/2021</td>\n",
              "      <td>13:56</td>\n",
              "      <td>D</td>\n",
              "      <td>Turno 13 - 19 h</td>\n",
              "      <td>1</td>\n",
              "      <td>AMARELO</td>\n",
              "      <td>FHS6096557</td>\n",
              "    </tr>\n",
              "    <tr>\n",
              "      <th>13</th>\n",
              "      <td>18/10/2021</td>\n",
              "      <td>13:56</td>\n",
              "      <td>D</td>\n",
              "      <td>Turno 13 - 19 h</td>\n",
              "      <td>1</td>\n",
              "      <td>AMARELO</td>\n",
              "      <td>FHS6096557</td>\n",
              "    </tr>\n",
              "    <tr>\n",
              "      <th>14</th>\n",
              "      <td>18/10/2021</td>\n",
              "      <td>13:55</td>\n",
              "      <td>D</td>\n",
              "      <td>Turno 13 - 19 h</td>\n",
              "      <td>1</td>\n",
              "      <td>AMARELO</td>\n",
              "      <td>FHS6096638</td>\n",
              "    </tr>\n",
              "    <tr>\n",
              "      <th>15</th>\n",
              "      <td>18/10/2021</td>\n",
              "      <td>13:29</td>\n",
              "      <td>D</td>\n",
              "      <td>Turno 13 - 19 h</td>\n",
              "      <td>1</td>\n",
              "      <td>AMARELO</td>\n",
              "      <td>FHS6096638</td>\n",
              "    </tr>\n",
              "    <tr>\n",
              "      <th>16</th>\n",
              "      <td>18/10/2021</td>\n",
              "      <td>13:29</td>\n",
              "      <td>D</td>\n",
              "      <td>Turno 13 - 19 h</td>\n",
              "      <td>1</td>\n",
              "      <td>AMARELO</td>\n",
              "      <td>FHS6096701</td>\n",
              "    </tr>\n",
              "    <tr>\n",
              "      <th>17</th>\n",
              "      <td>18/10/2021</td>\n",
              "      <td>13:28</td>\n",
              "      <td>D</td>\n",
              "      <td>Turno 13 - 19 h</td>\n",
              "      <td>1</td>\n",
              "      <td>AMARELO</td>\n",
              "      <td>FHS6096701</td>\n",
              "    </tr>\n",
              "    <tr>\n",
              "      <th>18</th>\n",
              "      <td>18/10/2021</td>\n",
              "      <td>12:32</td>\n",
              "      <td>D</td>\n",
              "      <td>Turno 07 - 13 h</td>\n",
              "      <td>5</td>\n",
              "      <td>VERMELHO</td>\n",
              "      <td>FHS6096743</td>\n",
              "    </tr>\n",
              "    <tr>\n",
              "      <th>19</th>\n",
              "      <td>18/10/2021</td>\n",
              "      <td>12:32</td>\n",
              "      <td>D</td>\n",
              "      <td>Turno 07 - 13 h</td>\n",
              "      <td>5</td>\n",
              "      <td>VERMELHO</td>\n",
              "      <td>FHS6096743</td>\n",
              "    </tr>\n",
              "    <tr>\n",
              "      <th>20</th>\n",
              "      <td>18/10/2021</td>\n",
              "      <td>12:32</td>\n",
              "      <td>D</td>\n",
              "      <td>Turno 07 - 13 h</td>\n",
              "      <td>5</td>\n",
              "      <td>VERMELHO</td>\n",
              "      <td>FHS6096760</td>\n",
              "    </tr>\n",
              "  </tbody>\n",
              "</table>\n",
              "</div>"
            ],
            "text/plain": [
              "          Data   Hora Moega          Horario  Turno      Trem    Descarga\n",
              "1   18/10/2021  16:00     D  Turno 13 - 19 h      1   AMARELO  FHS0523623\n",
              "2   18/10/2021  16:00     D  Turno 13 - 19 h      1   AMARELO  FHS6096239\n",
              "3   18/10/2021  15:38     D  Turno 13 - 19 h      1   AMARELO  FHS6096255\n",
              "4   18/10/2021  15:38     D  Turno 13 - 19 h      1   AMARELO  FHS6096255\n",
              "5   18/10/2021  15:38     D  Turno 13 - 19 h      1   AMARELO  FHS6096328\n",
              "6   18/10/2021  15:18     D  Turno 13 - 19 h      1   AMARELO  FHS6096361\n",
              "7   18/10/2021  15:18     D  Turno 13 - 19 h      1   AMARELO  FHS6096361\n",
              "8   18/10/2021  15:17     D  Turno 13 - 19 h      1   AMARELO  FHS6096387\n",
              "9   18/10/2021  14:31     D  Turno 13 - 19 h      1   AMARELO  FHS6096417\n",
              "10  18/10/2021  14:31     D  Turno 13 - 19 h      1   AMARELO  FHS6096441\n",
              "11  18/10/2021  14:30     D  Turno 13 - 19 h      1   AMARELO  FHS6096484\n",
              "12  18/10/2021  13:56     D  Turno 13 - 19 h      1   AMARELO  FHS6096557\n",
              "13  18/10/2021  13:56     D  Turno 13 - 19 h      1   AMARELO  FHS6096557\n",
              "14  18/10/2021  13:55     D  Turno 13 - 19 h      1   AMARELO  FHS6096638\n",
              "15  18/10/2021  13:29     D  Turno 13 - 19 h      1   AMARELO  FHS6096638\n",
              "16  18/10/2021  13:29     D  Turno 13 - 19 h      1   AMARELO  FHS6096701\n",
              "17  18/10/2021  13:28     D  Turno 13 - 19 h      1   AMARELO  FHS6096701\n",
              "18  18/10/2021  12:32     D  Turno 07 - 13 h      5  VERMELHO  FHS6096743\n",
              "19  18/10/2021  12:32     D  Turno 07 - 13 h      5  VERMELHO  FHS6096743\n",
              "20  18/10/2021  12:32     D  Turno 07 - 13 h      5  VERMELHO  FHS6096760"
            ]
          },
          "metadata": {},
          "execution_count": 60
        }
      ]
    },
    {
      "cell_type": "code",
      "metadata": {
        "colab": {
          "base_uri": "https://localhost:8080/",
          "height": 385
        },
        "id": "9df0cysYpIxB",
        "outputId": "65d71610-4b82-426b-cb64-9fa3c39d5a78"
      },
      "source": [
        "df.loc[10:30:2]"
      ],
      "execution_count": 61,
      "outputs": [
        {
          "output_type": "execute_result",
          "data": {
            "text/html": [
              "<div>\n",
              "<style scoped>\n",
              "    .dataframe tbody tr th:only-of-type {\n",
              "        vertical-align: middle;\n",
              "    }\n",
              "\n",
              "    .dataframe tbody tr th {\n",
              "        vertical-align: top;\n",
              "    }\n",
              "\n",
              "    .dataframe thead th {\n",
              "        text-align: right;\n",
              "    }\n",
              "</style>\n",
              "<table border=\"1\" class=\"dataframe\">\n",
              "  <thead>\n",
              "    <tr style=\"text-align: right;\">\n",
              "      <th></th>\n",
              "      <th>Data</th>\n",
              "      <th>Hora</th>\n",
              "      <th>Moega</th>\n",
              "      <th>Horario</th>\n",
              "      <th>Turno</th>\n",
              "      <th>Trem</th>\n",
              "      <th>Descarga</th>\n",
              "    </tr>\n",
              "  </thead>\n",
              "  <tbody>\n",
              "    <tr>\n",
              "      <th>10</th>\n",
              "      <td>18/10/2021</td>\n",
              "      <td>14:31</td>\n",
              "      <td>D</td>\n",
              "      <td>Turno 13 - 19 h</td>\n",
              "      <td>1</td>\n",
              "      <td>AMARELO</td>\n",
              "      <td>FHS6096441</td>\n",
              "    </tr>\n",
              "    <tr>\n",
              "      <th>12</th>\n",
              "      <td>18/10/2021</td>\n",
              "      <td>13:56</td>\n",
              "      <td>D</td>\n",
              "      <td>Turno 13 - 19 h</td>\n",
              "      <td>1</td>\n",
              "      <td>AMARELO</td>\n",
              "      <td>FHS6096557</td>\n",
              "    </tr>\n",
              "    <tr>\n",
              "      <th>14</th>\n",
              "      <td>18/10/2021</td>\n",
              "      <td>13:55</td>\n",
              "      <td>D</td>\n",
              "      <td>Turno 13 - 19 h</td>\n",
              "      <td>1</td>\n",
              "      <td>AMARELO</td>\n",
              "      <td>FHS6096638</td>\n",
              "    </tr>\n",
              "    <tr>\n",
              "      <th>16</th>\n",
              "      <td>18/10/2021</td>\n",
              "      <td>13:29</td>\n",
              "      <td>D</td>\n",
              "      <td>Turno 13 - 19 h</td>\n",
              "      <td>1</td>\n",
              "      <td>AMARELO</td>\n",
              "      <td>FHS6096701</td>\n",
              "    </tr>\n",
              "    <tr>\n",
              "      <th>18</th>\n",
              "      <td>18/10/2021</td>\n",
              "      <td>12:32</td>\n",
              "      <td>D</td>\n",
              "      <td>Turno 07 - 13 h</td>\n",
              "      <td>5</td>\n",
              "      <td>VERMELHO</td>\n",
              "      <td>FHS6096743</td>\n",
              "    </tr>\n",
              "    <tr>\n",
              "      <th>20</th>\n",
              "      <td>18/10/2021</td>\n",
              "      <td>12:32</td>\n",
              "      <td>D</td>\n",
              "      <td>Turno 07 - 13 h</td>\n",
              "      <td>5</td>\n",
              "      <td>VERMELHO</td>\n",
              "      <td>FHS6096760</td>\n",
              "    </tr>\n",
              "    <tr>\n",
              "      <th>22</th>\n",
              "      <td>18/10/2021</td>\n",
              "      <td>12:06</td>\n",
              "      <td>D</td>\n",
              "      <td>Turno 07 - 13 h</td>\n",
              "      <td>5</td>\n",
              "      <td>VERMELHO</td>\n",
              "      <td>FHS6096832</td>\n",
              "    </tr>\n",
              "    <tr>\n",
              "      <th>24</th>\n",
              "      <td>18/10/2021</td>\n",
              "      <td>12:05</td>\n",
              "      <td>D</td>\n",
              "      <td>Turno 07 - 13 h</td>\n",
              "      <td>5</td>\n",
              "      <td>VERMELHO</td>\n",
              "      <td>FHS6096964</td>\n",
              "    </tr>\n",
              "    <tr>\n",
              "      <th>26</th>\n",
              "      <td>18/10/2021</td>\n",
              "      <td>12:04</td>\n",
              "      <td>D</td>\n",
              "      <td>Turno 07 - 13 h</td>\n",
              "      <td>5</td>\n",
              "      <td>VERMELHO</td>\n",
              "      <td>FHS6096981</td>\n",
              "    </tr>\n",
              "    <tr>\n",
              "      <th>28</th>\n",
              "      <td>18/10/2021</td>\n",
              "      <td>11:32</td>\n",
              "      <td>B</td>\n",
              "      <td>Turno 07 - 13 h</td>\n",
              "      <td>5</td>\n",
              "      <td>VERMELHO</td>\n",
              "      <td>FHS6104606</td>\n",
              "    </tr>\n",
              "    <tr>\n",
              "      <th>30</th>\n",
              "      <td>18/10/2021</td>\n",
              "      <td>11:29</td>\n",
              "      <td>B</td>\n",
              "      <td>Turno 07 - 13 h</td>\n",
              "      <td>5</td>\n",
              "      <td>VERMELHO</td>\n",
              "      <td>FHS6104801</td>\n",
              "    </tr>\n",
              "  </tbody>\n",
              "</table>\n",
              "</div>"
            ],
            "text/plain": [
              "          Data   Hora Moega          Horario  Turno      Trem    Descarga\n",
              "10  18/10/2021  14:31     D  Turno 13 - 19 h      1   AMARELO  FHS6096441\n",
              "12  18/10/2021  13:56     D  Turno 13 - 19 h      1   AMARELO  FHS6096557\n",
              "14  18/10/2021  13:55     D  Turno 13 - 19 h      1   AMARELO  FHS6096638\n",
              "16  18/10/2021  13:29     D  Turno 13 - 19 h      1   AMARELO  FHS6096701\n",
              "18  18/10/2021  12:32     D  Turno 07 - 13 h      5  VERMELHO  FHS6096743\n",
              "20  18/10/2021  12:32     D  Turno 07 - 13 h      5  VERMELHO  FHS6096760\n",
              "22  18/10/2021  12:06     D  Turno 07 - 13 h      5  VERMELHO  FHS6096832\n",
              "24  18/10/2021  12:05     D  Turno 07 - 13 h      5  VERMELHO  FHS6096964\n",
              "26  18/10/2021  12:04     D  Turno 07 - 13 h      5  VERMELHO  FHS6096981\n",
              "28  18/10/2021  11:32     B  Turno 07 - 13 h      5  VERMELHO  FHS6104606\n",
              "30  18/10/2021  11:29     B  Turno 07 - 13 h      5  VERMELHO  FHS6104801"
            ]
          },
          "metadata": {},
          "execution_count": 61
        }
      ]
    },
    {
      "cell_type": "code",
      "metadata": {
        "colab": {
          "base_uri": "https://localhost:8080/",
          "height": 414
        },
        "id": "GnzmfvoDqL1-",
        "outputId": "f075e565-c163-4cef-b56a-ade7801adf16"
      },
      "source": [
        "df.loc[10:]"
      ],
      "execution_count": 62,
      "outputs": [
        {
          "output_type": "execute_result",
          "data": {
            "text/html": [
              "<div>\n",
              "<style scoped>\n",
              "    .dataframe tbody tr th:only-of-type {\n",
              "        vertical-align: middle;\n",
              "    }\n",
              "\n",
              "    .dataframe tbody tr th {\n",
              "        vertical-align: top;\n",
              "    }\n",
              "\n",
              "    .dataframe thead th {\n",
              "        text-align: right;\n",
              "    }\n",
              "</style>\n",
              "<table border=\"1\" class=\"dataframe\">\n",
              "  <thead>\n",
              "    <tr style=\"text-align: right;\">\n",
              "      <th></th>\n",
              "      <th>Data</th>\n",
              "      <th>Hora</th>\n",
              "      <th>Moega</th>\n",
              "      <th>Horario</th>\n",
              "      <th>Turno</th>\n",
              "      <th>Trem</th>\n",
              "      <th>Descarga</th>\n",
              "    </tr>\n",
              "  </thead>\n",
              "  <tbody>\n",
              "    <tr>\n",
              "      <th>10</th>\n",
              "      <td>18/10/2021</td>\n",
              "      <td>14:31</td>\n",
              "      <td>D</td>\n",
              "      <td>Turno 13 - 19 h</td>\n",
              "      <td>1</td>\n",
              "      <td>AMARELO</td>\n",
              "      <td>FHS6096441</td>\n",
              "    </tr>\n",
              "    <tr>\n",
              "      <th>11</th>\n",
              "      <td>18/10/2021</td>\n",
              "      <td>14:30</td>\n",
              "      <td>D</td>\n",
              "      <td>Turno 13 - 19 h</td>\n",
              "      <td>1</td>\n",
              "      <td>AMARELO</td>\n",
              "      <td>FHS6096484</td>\n",
              "    </tr>\n",
              "    <tr>\n",
              "      <th>12</th>\n",
              "      <td>18/10/2021</td>\n",
              "      <td>13:56</td>\n",
              "      <td>D</td>\n",
              "      <td>Turno 13 - 19 h</td>\n",
              "      <td>1</td>\n",
              "      <td>AMARELO</td>\n",
              "      <td>FHS6096557</td>\n",
              "    </tr>\n",
              "    <tr>\n",
              "      <th>13</th>\n",
              "      <td>18/10/2021</td>\n",
              "      <td>13:56</td>\n",
              "      <td>D</td>\n",
              "      <td>Turno 13 - 19 h</td>\n",
              "      <td>1</td>\n",
              "      <td>AMARELO</td>\n",
              "      <td>FHS6096557</td>\n",
              "    </tr>\n",
              "    <tr>\n",
              "      <th>14</th>\n",
              "      <td>18/10/2021</td>\n",
              "      <td>13:55</td>\n",
              "      <td>D</td>\n",
              "      <td>Turno 13 - 19 h</td>\n",
              "      <td>1</td>\n",
              "      <td>AMARELO</td>\n",
              "      <td>FHS6096638</td>\n",
              "    </tr>\n",
              "    <tr>\n",
              "      <th>...</th>\n",
              "      <td>...</td>\n",
              "      <td>...</td>\n",
              "      <td>...</td>\n",
              "      <td>...</td>\n",
              "      <td>...</td>\n",
              "      <td>...</td>\n",
              "      <td>...</td>\n",
              "    </tr>\n",
              "    <tr>\n",
              "      <th>3630</th>\n",
              "      <td>01/10/2021</td>\n",
              "      <td>02:41</td>\n",
              "      <td>D</td>\n",
              "      <td>Turno 01 - 07 h</td>\n",
              "      <td>3</td>\n",
              "      <td>AZUL</td>\n",
              "      <td>HFS7166176</td>\n",
              "    </tr>\n",
              "    <tr>\n",
              "      <th>3631</th>\n",
              "      <td>01/10/2021</td>\n",
              "      <td>01:50</td>\n",
              "      <td>D</td>\n",
              "      <td>Turno 01 - 07 h</td>\n",
              "      <td>3</td>\n",
              "      <td>AZUL</td>\n",
              "      <td>HFS7166249</td>\n",
              "    </tr>\n",
              "    <tr>\n",
              "      <th>3632</th>\n",
              "      <td>01/10/2021</td>\n",
              "      <td>01:50</td>\n",
              "      <td>D</td>\n",
              "      <td>Turno 01 - 07 h</td>\n",
              "      <td>3</td>\n",
              "      <td>AZUL</td>\n",
              "      <td>HFS7166397</td>\n",
              "    </tr>\n",
              "    <tr>\n",
              "      <th>3633</th>\n",
              "      <td>01/10/2021</td>\n",
              "      <td>01:49</td>\n",
              "      <td>D</td>\n",
              "      <td>Turno 01 - 07 h</td>\n",
              "      <td>3</td>\n",
              "      <td>AZUL</td>\n",
              "      <td>HFS7166451</td>\n",
              "    </tr>\n",
              "    <tr>\n",
              "      <th>3634</th>\n",
              "      <td>01/10/2021</td>\n",
              "      <td>01:28</td>\n",
              "      <td>D</td>\n",
              "      <td>Turno 01 - 07 h</td>\n",
              "      <td>3</td>\n",
              "      <td>AZUL</td>\n",
              "      <td>HFS7166532</td>\n",
              "    </tr>\n",
              "  </tbody>\n",
              "</table>\n",
              "<p>3625 rows × 7 columns</p>\n",
              "</div>"
            ],
            "text/plain": [
              "            Data   Hora Moega          Horario  Turno     Trem    Descarga\n",
              "10    18/10/2021  14:31     D  Turno 13 - 19 h      1  AMARELO  FHS6096441\n",
              "11    18/10/2021  14:30     D  Turno 13 - 19 h      1  AMARELO  FHS6096484\n",
              "12    18/10/2021  13:56     D  Turno 13 - 19 h      1  AMARELO  FHS6096557\n",
              "13    18/10/2021  13:56     D  Turno 13 - 19 h      1  AMARELO  FHS6096557\n",
              "14    18/10/2021  13:55     D  Turno 13 - 19 h      1  AMARELO  FHS6096638\n",
              "...          ...    ...   ...              ...    ...      ...         ...\n",
              "3630  01/10/2021  02:41     D  Turno 01 - 07 h      3     AZUL  HFS7166176\n",
              "3631  01/10/2021  01:50     D  Turno 01 - 07 h      3     AZUL  HFS7166249\n",
              "3632  01/10/2021  01:50     D  Turno 01 - 07 h      3     AZUL  HFS7166397\n",
              "3633  01/10/2021  01:49     D  Turno 01 - 07 h      3     AZUL  HFS7166451\n",
              "3634  01/10/2021  01:28     D  Turno 01 - 07 h      3     AZUL  HFS7166532\n",
              "\n",
              "[3625 rows x 7 columns]"
            ]
          },
          "metadata": {},
          "execution_count": 62
        }
      ]
    },
    {
      "cell_type": "code",
      "metadata": {
        "colab": {
          "base_uri": "https://localhost:8080/",
          "height": 355
        },
        "id": "FkEig3zhqL6v",
        "outputId": "75c2f42e-7f85-47af-bb43-2d441fa30759"
      },
      "source": [
        "df.loc[1:10, ['Moega','Horario','Turno']]"
      ],
      "execution_count": 63,
      "outputs": [
        {
          "output_type": "execute_result",
          "data": {
            "text/html": [
              "<div>\n",
              "<style scoped>\n",
              "    .dataframe tbody tr th:only-of-type {\n",
              "        vertical-align: middle;\n",
              "    }\n",
              "\n",
              "    .dataframe tbody tr th {\n",
              "        vertical-align: top;\n",
              "    }\n",
              "\n",
              "    .dataframe thead th {\n",
              "        text-align: right;\n",
              "    }\n",
              "</style>\n",
              "<table border=\"1\" class=\"dataframe\">\n",
              "  <thead>\n",
              "    <tr style=\"text-align: right;\">\n",
              "      <th></th>\n",
              "      <th>Moega</th>\n",
              "      <th>Horario</th>\n",
              "      <th>Turno</th>\n",
              "    </tr>\n",
              "  </thead>\n",
              "  <tbody>\n",
              "    <tr>\n",
              "      <th>1</th>\n",
              "      <td>D</td>\n",
              "      <td>Turno 13 - 19 h</td>\n",
              "      <td>1</td>\n",
              "    </tr>\n",
              "    <tr>\n",
              "      <th>2</th>\n",
              "      <td>D</td>\n",
              "      <td>Turno 13 - 19 h</td>\n",
              "      <td>1</td>\n",
              "    </tr>\n",
              "    <tr>\n",
              "      <th>3</th>\n",
              "      <td>D</td>\n",
              "      <td>Turno 13 - 19 h</td>\n",
              "      <td>1</td>\n",
              "    </tr>\n",
              "    <tr>\n",
              "      <th>4</th>\n",
              "      <td>D</td>\n",
              "      <td>Turno 13 - 19 h</td>\n",
              "      <td>1</td>\n",
              "    </tr>\n",
              "    <tr>\n",
              "      <th>5</th>\n",
              "      <td>D</td>\n",
              "      <td>Turno 13 - 19 h</td>\n",
              "      <td>1</td>\n",
              "    </tr>\n",
              "    <tr>\n",
              "      <th>6</th>\n",
              "      <td>D</td>\n",
              "      <td>Turno 13 - 19 h</td>\n",
              "      <td>1</td>\n",
              "    </tr>\n",
              "    <tr>\n",
              "      <th>7</th>\n",
              "      <td>D</td>\n",
              "      <td>Turno 13 - 19 h</td>\n",
              "      <td>1</td>\n",
              "    </tr>\n",
              "    <tr>\n",
              "      <th>8</th>\n",
              "      <td>D</td>\n",
              "      <td>Turno 13 - 19 h</td>\n",
              "      <td>1</td>\n",
              "    </tr>\n",
              "    <tr>\n",
              "      <th>9</th>\n",
              "      <td>D</td>\n",
              "      <td>Turno 13 - 19 h</td>\n",
              "      <td>1</td>\n",
              "    </tr>\n",
              "    <tr>\n",
              "      <th>10</th>\n",
              "      <td>D</td>\n",
              "      <td>Turno 13 - 19 h</td>\n",
              "      <td>1</td>\n",
              "    </tr>\n",
              "  </tbody>\n",
              "</table>\n",
              "</div>"
            ],
            "text/plain": [
              "   Moega          Horario  Turno\n",
              "1      D  Turno 13 - 19 h      1\n",
              "2      D  Turno 13 - 19 h      1\n",
              "3      D  Turno 13 - 19 h      1\n",
              "4      D  Turno 13 - 19 h      1\n",
              "5      D  Turno 13 - 19 h      1\n",
              "6      D  Turno 13 - 19 h      1\n",
              "7      D  Turno 13 - 19 h      1\n",
              "8      D  Turno 13 - 19 h      1\n",
              "9      D  Turno 13 - 19 h      1\n",
              "10     D  Turno 13 - 19 h      1"
            ]
          },
          "metadata": {},
          "execution_count": 63
        }
      ]
    },
    {
      "cell_type": "code",
      "metadata": {
        "colab": {
          "base_uri": "https://localhost:8080/",
          "height": 414
        },
        "id": "DlBjg5JDqL_I",
        "outputId": "83582ad6-5bc6-4f5b-870d-6802a41da617"
      },
      "source": [
        "df.select_dtypes(include=['object'])"
      ],
      "execution_count": 64,
      "outputs": [
        {
          "output_type": "execute_result",
          "data": {
            "text/html": [
              "<div>\n",
              "<style scoped>\n",
              "    .dataframe tbody tr th:only-of-type {\n",
              "        vertical-align: middle;\n",
              "    }\n",
              "\n",
              "    .dataframe tbody tr th {\n",
              "        vertical-align: top;\n",
              "    }\n",
              "\n",
              "    .dataframe thead th {\n",
              "        text-align: right;\n",
              "    }\n",
              "</style>\n",
              "<table border=\"1\" class=\"dataframe\">\n",
              "  <thead>\n",
              "    <tr style=\"text-align: right;\">\n",
              "      <th></th>\n",
              "      <th>Data</th>\n",
              "      <th>Hora</th>\n",
              "      <th>Moega</th>\n",
              "      <th>Horario</th>\n",
              "      <th>Trem</th>\n",
              "      <th>Descarga</th>\n",
              "    </tr>\n",
              "  </thead>\n",
              "  <tbody>\n",
              "    <tr>\n",
              "      <th>0</th>\n",
              "      <td>18/10/2021</td>\n",
              "      <td>16:00</td>\n",
              "      <td>D</td>\n",
              "      <td>Turno 13 - 19 h</td>\n",
              "      <td>AMARELO</td>\n",
              "      <td>HPT0311227</td>\n",
              "    </tr>\n",
              "    <tr>\n",
              "      <th>1</th>\n",
              "      <td>18/10/2021</td>\n",
              "      <td>16:00</td>\n",
              "      <td>D</td>\n",
              "      <td>Turno 13 - 19 h</td>\n",
              "      <td>AMARELO</td>\n",
              "      <td>FHS0523623</td>\n",
              "    </tr>\n",
              "    <tr>\n",
              "      <th>2</th>\n",
              "      <td>18/10/2021</td>\n",
              "      <td>16:00</td>\n",
              "      <td>D</td>\n",
              "      <td>Turno 13 - 19 h</td>\n",
              "      <td>AMARELO</td>\n",
              "      <td>FHS6096239</td>\n",
              "    </tr>\n",
              "    <tr>\n",
              "      <th>3</th>\n",
              "      <td>18/10/2021</td>\n",
              "      <td>15:38</td>\n",
              "      <td>D</td>\n",
              "      <td>Turno 13 - 19 h</td>\n",
              "      <td>AMARELO</td>\n",
              "      <td>FHS6096255</td>\n",
              "    </tr>\n",
              "    <tr>\n",
              "      <th>4</th>\n",
              "      <td>18/10/2021</td>\n",
              "      <td>15:38</td>\n",
              "      <td>D</td>\n",
              "      <td>Turno 13 - 19 h</td>\n",
              "      <td>AMARELO</td>\n",
              "      <td>FHS6096255</td>\n",
              "    </tr>\n",
              "    <tr>\n",
              "      <th>...</th>\n",
              "      <td>...</td>\n",
              "      <td>...</td>\n",
              "      <td>...</td>\n",
              "      <td>...</td>\n",
              "      <td>...</td>\n",
              "      <td>...</td>\n",
              "    </tr>\n",
              "    <tr>\n",
              "      <th>3630</th>\n",
              "      <td>01/10/2021</td>\n",
              "      <td>02:41</td>\n",
              "      <td>D</td>\n",
              "      <td>Turno 01 - 07 h</td>\n",
              "      <td>AZUL</td>\n",
              "      <td>HFS7166176</td>\n",
              "    </tr>\n",
              "    <tr>\n",
              "      <th>3631</th>\n",
              "      <td>01/10/2021</td>\n",
              "      <td>01:50</td>\n",
              "      <td>D</td>\n",
              "      <td>Turno 01 - 07 h</td>\n",
              "      <td>AZUL</td>\n",
              "      <td>HFS7166249</td>\n",
              "    </tr>\n",
              "    <tr>\n",
              "      <th>3632</th>\n",
              "      <td>01/10/2021</td>\n",
              "      <td>01:50</td>\n",
              "      <td>D</td>\n",
              "      <td>Turno 01 - 07 h</td>\n",
              "      <td>AZUL</td>\n",
              "      <td>HFS7166397</td>\n",
              "    </tr>\n",
              "    <tr>\n",
              "      <th>3633</th>\n",
              "      <td>01/10/2021</td>\n",
              "      <td>01:49</td>\n",
              "      <td>D</td>\n",
              "      <td>Turno 01 - 07 h</td>\n",
              "      <td>AZUL</td>\n",
              "      <td>HFS7166451</td>\n",
              "    </tr>\n",
              "    <tr>\n",
              "      <th>3634</th>\n",
              "      <td>01/10/2021</td>\n",
              "      <td>01:28</td>\n",
              "      <td>D</td>\n",
              "      <td>Turno 01 - 07 h</td>\n",
              "      <td>AZUL</td>\n",
              "      <td>HFS7166532</td>\n",
              "    </tr>\n",
              "  </tbody>\n",
              "</table>\n",
              "<p>3635 rows × 6 columns</p>\n",
              "</div>"
            ],
            "text/plain": [
              "            Data   Hora Moega          Horario     Trem    Descarga\n",
              "0     18/10/2021  16:00     D  Turno 13 - 19 h  AMARELO  HPT0311227\n",
              "1     18/10/2021  16:00     D  Turno 13 - 19 h  AMARELO  FHS0523623\n",
              "2     18/10/2021  16:00     D  Turno 13 - 19 h  AMARELO  FHS6096239\n",
              "3     18/10/2021  15:38     D  Turno 13 - 19 h  AMARELO  FHS6096255\n",
              "4     18/10/2021  15:38     D  Turno 13 - 19 h  AMARELO  FHS6096255\n",
              "...          ...    ...   ...              ...      ...         ...\n",
              "3630  01/10/2021  02:41     D  Turno 01 - 07 h     AZUL  HFS7166176\n",
              "3631  01/10/2021  01:50     D  Turno 01 - 07 h     AZUL  HFS7166249\n",
              "3632  01/10/2021  01:50     D  Turno 01 - 07 h     AZUL  HFS7166397\n",
              "3633  01/10/2021  01:49     D  Turno 01 - 07 h     AZUL  HFS7166451\n",
              "3634  01/10/2021  01:28     D  Turno 01 - 07 h     AZUL  HFS7166532\n",
              "\n",
              "[3635 rows x 6 columns]"
            ]
          },
          "metadata": {},
          "execution_count": 64
        }
      ]
    },
    {
      "cell_type": "code",
      "metadata": {
        "colab": {
          "base_uri": "https://localhost:8080/",
          "height": 397
        },
        "id": "npRafZ-SqMDK",
        "outputId": "27059916-b503-46ef-f0d9-5df8eb3367ee"
      },
      "source": [
        "df.select_dtypes(include=['float'])"
      ],
      "execution_count": 65,
      "outputs": [
        {
          "output_type": "execute_result",
          "data": {
            "text/html": [
              "<div>\n",
              "<style scoped>\n",
              "    .dataframe tbody tr th:only-of-type {\n",
              "        vertical-align: middle;\n",
              "    }\n",
              "\n",
              "    .dataframe tbody tr th {\n",
              "        vertical-align: top;\n",
              "    }\n",
              "\n",
              "    .dataframe thead th {\n",
              "        text-align: right;\n",
              "    }\n",
              "</style>\n",
              "<table border=\"1\" class=\"dataframe\">\n",
              "  <thead>\n",
              "    <tr style=\"text-align: right;\">\n",
              "      <th></th>\n",
              "    </tr>\n",
              "  </thead>\n",
              "  <tbody>\n",
              "    <tr>\n",
              "      <th>0</th>\n",
              "    </tr>\n",
              "    <tr>\n",
              "      <th>1</th>\n",
              "    </tr>\n",
              "    <tr>\n",
              "      <th>2</th>\n",
              "    </tr>\n",
              "    <tr>\n",
              "      <th>3</th>\n",
              "    </tr>\n",
              "    <tr>\n",
              "      <th>4</th>\n",
              "    </tr>\n",
              "    <tr>\n",
              "      <th>...</th>\n",
              "    </tr>\n",
              "    <tr>\n",
              "      <th>3630</th>\n",
              "    </tr>\n",
              "    <tr>\n",
              "      <th>3631</th>\n",
              "    </tr>\n",
              "    <tr>\n",
              "      <th>3632</th>\n",
              "    </tr>\n",
              "    <tr>\n",
              "      <th>3633</th>\n",
              "    </tr>\n",
              "    <tr>\n",
              "      <th>3634</th>\n",
              "    </tr>\n",
              "  </tbody>\n",
              "</table>\n",
              "<p>3635 rows × 0 columns</p>\n",
              "</div>"
            ],
            "text/plain": [
              "Empty DataFrame\n",
              "Columns: []\n",
              "Index: [0, 1, 2, 3, 4, 5, 6, 7, 8, 9, 10, 11, 12, 13, 14, 15, 16, 17, 18, 19, 20, 21, 22, 23, 24, 25, 26, 27, 28, 29, 30, 31, 32, 33, 34, 35, 36, 37, 38, 39, 40, 41, 42, 43, 44, 45, 46, 47, 48, 49, 50, 51, 52, 53, 54, 55, 56, 57, 58, 59, 60, 61, 62, 63, 64, 65, 66, 67, 68, 69, 70, 71, 72, 73, 74, 75, 76, 77, 78, 79, 80, 81, 82, 83, 84, 85, 86, 87, 88, 89, 90, 91, 92, 93, 94, 95, 96, 97, 98, 99, ...]\n",
              "\n",
              "[3635 rows x 0 columns]"
            ]
          },
          "metadata": {},
          "execution_count": 65
        }
      ]
    },
    {
      "cell_type": "code",
      "metadata": {
        "id": "7LJWSpZYqMH1"
      },
      "source": [
        "import pandas_profiling"
      ],
      "execution_count": 66,
      "outputs": []
    },
    {
      "cell_type": "code",
      "metadata": {
        "colab": {
          "base_uri": "https://localhost:8080/"
        },
        "id": "zwts0feQqMMv",
        "outputId": "84f5b3b2-4bb5-42b8-9a8b-ab9069a3d48f"
      },
      "source": [
        "df.groupby(by='Turno').size()"
      ],
      "execution_count": 67,
      "outputs": [
        {
          "output_type": "execute_result",
          "data": {
            "text/plain": [
              "Turno\n",
              "1    792\n",
              "2    778\n",
              "3    892\n",
              "4    647\n",
              "5    526\n",
              "dtype: int64"
            ]
          },
          "metadata": {},
          "execution_count": 67
        }
      ]
    },
    {
      "cell_type": "code",
      "metadata": {
        "colab": {
          "base_uri": "https://localhost:8080/"
        },
        "id": "HxAsh2HYqMPr",
        "outputId": "8d2c25be-ca18-4d61-dfde-705e3b7f214f"
      },
      "source": [
        "df.groupby(by='Moega').size()"
      ],
      "execution_count": 68,
      "outputs": [
        {
          "output_type": "execute_result",
          "data": {
            "text/plain": [
              "Moega\n",
              "A       6\n",
              "B    1339\n",
              "C     990\n",
              "D    1300\n",
              "dtype: int64"
            ]
          },
          "metadata": {},
          "execution_count": 68
        }
      ]
    },
    {
      "cell_type": "code",
      "metadata": {
        "colab": {
          "base_uri": "https://localhost:8080/"
        },
        "id": "Whtk-6i4qMSJ",
        "outputId": "d2942e1c-830a-4e99-d535-2bbcb9e80083"
      },
      "source": [
        "df.columns"
      ],
      "execution_count": 69,
      "outputs": [
        {
          "output_type": "execute_result",
          "data": {
            "text/plain": [
              "Index(['Data', 'Hora', 'Moega', 'Horario', 'Turno', 'Trem', 'Descarga'], dtype='object')"
            ]
          },
          "metadata": {},
          "execution_count": 69
        }
      ]
    },
    {
      "cell_type": "code",
      "metadata": {
        "colab": {
          "base_uri": "https://localhost:8080/"
        },
        "id": "Iglov79eqMW_",
        "outputId": "0367f469-bae1-48ac-a15f-a49bf8b9c2ef"
      },
      "source": [
        "df.values"
      ],
      "execution_count": 70,
      "outputs": [
        {
          "output_type": "execute_result",
          "data": {
            "text/plain": [
              "array([['18/10/2021', '16:00', 'D', ..., 1, 'AMARELO', 'HPT0311227'],\n",
              "       ['18/10/2021', '16:00', 'D', ..., 1, 'AMARELO', 'FHS0523623'],\n",
              "       ['18/10/2021', '16:00', 'D', ..., 1, 'AMARELO', 'FHS6096239'],\n",
              "       ...,\n",
              "       ['01/10/2021', '01:50', 'D', ..., 3, 'AZUL', 'HFS7166397'],\n",
              "       ['01/10/2021', '01:49', 'D', ..., 3, 'AZUL', 'HFS7166451'],\n",
              "       ['01/10/2021', '01:28', 'D', ..., 3, 'AZUL', 'HFS7166532']],\n",
              "      dtype=object)"
            ]
          },
          "metadata": {},
          "execution_count": 70
        }
      ]
    },
    {
      "cell_type": "code",
      "metadata": {
        "id": "1Mz-pMHkqMb8"
      },
      "source": [
        "import matplotlib.pyplot as plt\n",
        "\n",
        "import numpy as np\n"
      ],
      "execution_count": 72,
      "outputs": []
    },
    {
      "cell_type": "code",
      "metadata": {
        "colab": {
          "base_uri": "https://localhost:8080/",
          "height": 202
        },
        "id": "YvA2eEm1xhjA",
        "outputId": "d8d41617-5311-4626-cf42-9d7e0a05cbe4"
      },
      "source": [
        "df.head()"
      ],
      "execution_count": 73,
      "outputs": [
        {
          "output_type": "execute_result",
          "data": {
            "text/html": [
              "<div>\n",
              "<style scoped>\n",
              "    .dataframe tbody tr th:only-of-type {\n",
              "        vertical-align: middle;\n",
              "    }\n",
              "\n",
              "    .dataframe tbody tr th {\n",
              "        vertical-align: top;\n",
              "    }\n",
              "\n",
              "    .dataframe thead th {\n",
              "        text-align: right;\n",
              "    }\n",
              "</style>\n",
              "<table border=\"1\" class=\"dataframe\">\n",
              "  <thead>\n",
              "    <tr style=\"text-align: right;\">\n",
              "      <th></th>\n",
              "      <th>Data</th>\n",
              "      <th>Hora</th>\n",
              "      <th>Moega</th>\n",
              "      <th>Horario</th>\n",
              "      <th>Turno</th>\n",
              "      <th>Trem</th>\n",
              "      <th>Descarga</th>\n",
              "    </tr>\n",
              "  </thead>\n",
              "  <tbody>\n",
              "    <tr>\n",
              "      <th>0</th>\n",
              "      <td>18/10/2021</td>\n",
              "      <td>16:00</td>\n",
              "      <td>D</td>\n",
              "      <td>Turno 13 - 19 h</td>\n",
              "      <td>1</td>\n",
              "      <td>AMARELO</td>\n",
              "      <td>HPT0311227</td>\n",
              "    </tr>\n",
              "    <tr>\n",
              "      <th>1</th>\n",
              "      <td>18/10/2021</td>\n",
              "      <td>16:00</td>\n",
              "      <td>D</td>\n",
              "      <td>Turno 13 - 19 h</td>\n",
              "      <td>1</td>\n",
              "      <td>AMARELO</td>\n",
              "      <td>FHS0523623</td>\n",
              "    </tr>\n",
              "    <tr>\n",
              "      <th>2</th>\n",
              "      <td>18/10/2021</td>\n",
              "      <td>16:00</td>\n",
              "      <td>D</td>\n",
              "      <td>Turno 13 - 19 h</td>\n",
              "      <td>1</td>\n",
              "      <td>AMARELO</td>\n",
              "      <td>FHS6096239</td>\n",
              "    </tr>\n",
              "    <tr>\n",
              "      <th>3</th>\n",
              "      <td>18/10/2021</td>\n",
              "      <td>15:38</td>\n",
              "      <td>D</td>\n",
              "      <td>Turno 13 - 19 h</td>\n",
              "      <td>1</td>\n",
              "      <td>AMARELO</td>\n",
              "      <td>FHS6096255</td>\n",
              "    </tr>\n",
              "    <tr>\n",
              "      <th>4</th>\n",
              "      <td>18/10/2021</td>\n",
              "      <td>15:38</td>\n",
              "      <td>D</td>\n",
              "      <td>Turno 13 - 19 h</td>\n",
              "      <td>1</td>\n",
              "      <td>AMARELO</td>\n",
              "      <td>FHS6096255</td>\n",
              "    </tr>\n",
              "  </tbody>\n",
              "</table>\n",
              "</div>"
            ],
            "text/plain": [
              "         Data   Hora Moega          Horario  Turno     Trem    Descarga\n",
              "0  18/10/2021  16:00     D  Turno 13 - 19 h      1  AMARELO  HPT0311227\n",
              "1  18/10/2021  16:00     D  Turno 13 - 19 h      1  AMARELO  FHS0523623\n",
              "2  18/10/2021  16:00     D  Turno 13 - 19 h      1  AMARELO  FHS6096239\n",
              "3  18/10/2021  15:38     D  Turno 13 - 19 h      1  AMARELO  FHS6096255\n",
              "4  18/10/2021  15:38     D  Turno 13 - 19 h      1  AMARELO  FHS6096255"
            ]
          },
          "metadata": {},
          "execution_count": 73
        }
      ]
    },
    {
      "cell_type": "code",
      "metadata": {
        "id": "yuHntn0Hxhnl"
      },
      "source": [
        "df['total']=df.sum()"
      ],
      "execution_count": 74,
      "outputs": []
    },
    {
      "cell_type": "code",
      "metadata": {
        "colab": {
          "base_uri": "https://localhost:8080/"
        },
        "id": "zyzcCYYg1wS7",
        "outputId": "1d91d0f4-07f3-4469-8a86-c0744822decd"
      },
      "source": [
        "df.head"
      ],
      "execution_count": 75,
      "outputs": [
        {
          "output_type": "execute_result",
          "data": {
            "text/plain": [
              "<bound method NDFrame.head of             Data   Hora Moega  ...     Trem    Descarga total\n",
              "0     18/10/2021  16:00     D  ...  AMARELO  HPT0311227   NaN\n",
              "1     18/10/2021  16:00     D  ...  AMARELO  FHS0523623   NaN\n",
              "2     18/10/2021  16:00     D  ...  AMARELO  FHS6096239   NaN\n",
              "3     18/10/2021  15:38     D  ...  AMARELO  FHS6096255   NaN\n",
              "4     18/10/2021  15:38     D  ...  AMARELO  FHS6096255   NaN\n",
              "...          ...    ...   ...  ...      ...         ...   ...\n",
              "3630  01/10/2021  02:41     D  ...     AZUL  HFS7166176   NaN\n",
              "3631  01/10/2021  01:50     D  ...     AZUL  HFS7166249   NaN\n",
              "3632  01/10/2021  01:50     D  ...     AZUL  HFS7166397   NaN\n",
              "3633  01/10/2021  01:49     D  ...     AZUL  HFS7166451   NaN\n",
              "3634  01/10/2021  01:28     D  ...     AZUL  HFS7166532   NaN\n",
              "\n",
              "[3635 rows x 8 columns]>"
            ]
          },
          "metadata": {},
          "execution_count": 75
        }
      ]
    },
    {
      "cell_type": "code",
      "metadata": {
        "colab": {
          "base_uri": "https://localhost:8080/",
          "height": 414
        },
        "id": "erw_Z2DJxhr-",
        "outputId": "4d04b118-8815-4af8-9540-1518731de210"
      },
      "source": [
        "df.drop('total',axis=1)"
      ],
      "execution_count": 76,
      "outputs": [
        {
          "output_type": "execute_result",
          "data": {
            "text/html": [
              "<div>\n",
              "<style scoped>\n",
              "    .dataframe tbody tr th:only-of-type {\n",
              "        vertical-align: middle;\n",
              "    }\n",
              "\n",
              "    .dataframe tbody tr th {\n",
              "        vertical-align: top;\n",
              "    }\n",
              "\n",
              "    .dataframe thead th {\n",
              "        text-align: right;\n",
              "    }\n",
              "</style>\n",
              "<table border=\"1\" class=\"dataframe\">\n",
              "  <thead>\n",
              "    <tr style=\"text-align: right;\">\n",
              "      <th></th>\n",
              "      <th>Data</th>\n",
              "      <th>Hora</th>\n",
              "      <th>Moega</th>\n",
              "      <th>Horario</th>\n",
              "      <th>Turno</th>\n",
              "      <th>Trem</th>\n",
              "      <th>Descarga</th>\n",
              "    </tr>\n",
              "  </thead>\n",
              "  <tbody>\n",
              "    <tr>\n",
              "      <th>0</th>\n",
              "      <td>18/10/2021</td>\n",
              "      <td>16:00</td>\n",
              "      <td>D</td>\n",
              "      <td>Turno 13 - 19 h</td>\n",
              "      <td>1</td>\n",
              "      <td>AMARELO</td>\n",
              "      <td>HPT0311227</td>\n",
              "    </tr>\n",
              "    <tr>\n",
              "      <th>1</th>\n",
              "      <td>18/10/2021</td>\n",
              "      <td>16:00</td>\n",
              "      <td>D</td>\n",
              "      <td>Turno 13 - 19 h</td>\n",
              "      <td>1</td>\n",
              "      <td>AMARELO</td>\n",
              "      <td>FHS0523623</td>\n",
              "    </tr>\n",
              "    <tr>\n",
              "      <th>2</th>\n",
              "      <td>18/10/2021</td>\n",
              "      <td>16:00</td>\n",
              "      <td>D</td>\n",
              "      <td>Turno 13 - 19 h</td>\n",
              "      <td>1</td>\n",
              "      <td>AMARELO</td>\n",
              "      <td>FHS6096239</td>\n",
              "    </tr>\n",
              "    <tr>\n",
              "      <th>3</th>\n",
              "      <td>18/10/2021</td>\n",
              "      <td>15:38</td>\n",
              "      <td>D</td>\n",
              "      <td>Turno 13 - 19 h</td>\n",
              "      <td>1</td>\n",
              "      <td>AMARELO</td>\n",
              "      <td>FHS6096255</td>\n",
              "    </tr>\n",
              "    <tr>\n",
              "      <th>4</th>\n",
              "      <td>18/10/2021</td>\n",
              "      <td>15:38</td>\n",
              "      <td>D</td>\n",
              "      <td>Turno 13 - 19 h</td>\n",
              "      <td>1</td>\n",
              "      <td>AMARELO</td>\n",
              "      <td>FHS6096255</td>\n",
              "    </tr>\n",
              "    <tr>\n",
              "      <th>...</th>\n",
              "      <td>...</td>\n",
              "      <td>...</td>\n",
              "      <td>...</td>\n",
              "      <td>...</td>\n",
              "      <td>...</td>\n",
              "      <td>...</td>\n",
              "      <td>...</td>\n",
              "    </tr>\n",
              "    <tr>\n",
              "      <th>3630</th>\n",
              "      <td>01/10/2021</td>\n",
              "      <td>02:41</td>\n",
              "      <td>D</td>\n",
              "      <td>Turno 01 - 07 h</td>\n",
              "      <td>3</td>\n",
              "      <td>AZUL</td>\n",
              "      <td>HFS7166176</td>\n",
              "    </tr>\n",
              "    <tr>\n",
              "      <th>3631</th>\n",
              "      <td>01/10/2021</td>\n",
              "      <td>01:50</td>\n",
              "      <td>D</td>\n",
              "      <td>Turno 01 - 07 h</td>\n",
              "      <td>3</td>\n",
              "      <td>AZUL</td>\n",
              "      <td>HFS7166249</td>\n",
              "    </tr>\n",
              "    <tr>\n",
              "      <th>3632</th>\n",
              "      <td>01/10/2021</td>\n",
              "      <td>01:50</td>\n",
              "      <td>D</td>\n",
              "      <td>Turno 01 - 07 h</td>\n",
              "      <td>3</td>\n",
              "      <td>AZUL</td>\n",
              "      <td>HFS7166397</td>\n",
              "    </tr>\n",
              "    <tr>\n",
              "      <th>3633</th>\n",
              "      <td>01/10/2021</td>\n",
              "      <td>01:49</td>\n",
              "      <td>D</td>\n",
              "      <td>Turno 01 - 07 h</td>\n",
              "      <td>3</td>\n",
              "      <td>AZUL</td>\n",
              "      <td>HFS7166451</td>\n",
              "    </tr>\n",
              "    <tr>\n",
              "      <th>3634</th>\n",
              "      <td>01/10/2021</td>\n",
              "      <td>01:28</td>\n",
              "      <td>D</td>\n",
              "      <td>Turno 01 - 07 h</td>\n",
              "      <td>3</td>\n",
              "      <td>AZUL</td>\n",
              "      <td>HFS7166532</td>\n",
              "    </tr>\n",
              "  </tbody>\n",
              "</table>\n",
              "<p>3635 rows × 7 columns</p>\n",
              "</div>"
            ],
            "text/plain": [
              "            Data   Hora Moega          Horario  Turno     Trem    Descarga\n",
              "0     18/10/2021  16:00     D  Turno 13 - 19 h      1  AMARELO  HPT0311227\n",
              "1     18/10/2021  16:00     D  Turno 13 - 19 h      1  AMARELO  FHS0523623\n",
              "2     18/10/2021  16:00     D  Turno 13 - 19 h      1  AMARELO  FHS6096239\n",
              "3     18/10/2021  15:38     D  Turno 13 - 19 h      1  AMARELO  FHS6096255\n",
              "4     18/10/2021  15:38     D  Turno 13 - 19 h      1  AMARELO  FHS6096255\n",
              "...          ...    ...   ...              ...    ...      ...         ...\n",
              "3630  01/10/2021  02:41     D  Turno 01 - 07 h      3     AZUL  HFS7166176\n",
              "3631  01/10/2021  01:50     D  Turno 01 - 07 h      3     AZUL  HFS7166249\n",
              "3632  01/10/2021  01:50     D  Turno 01 - 07 h      3     AZUL  HFS7166397\n",
              "3633  01/10/2021  01:49     D  Turno 01 - 07 h      3     AZUL  HFS7166451\n",
              "3634  01/10/2021  01:28     D  Turno 01 - 07 h      3     AZUL  HFS7166532\n",
              "\n",
              "[3635 rows x 7 columns]"
            ]
          },
          "metadata": {},
          "execution_count": 76
        }
      ]
    },
    {
      "cell_type": "markdown",
      "metadata": {
        "id": "7ZmjTpbm0mLq"
      },
      "source": [
        "# Nova seção"
      ]
    },
    {
      "cell_type": "code",
      "metadata": {
        "colab": {
          "base_uri": "https://localhost:8080/",
          "height": 202
        },
        "id": "HuC2QE-IymIz",
        "outputId": "3f9ac90e-4de3-4ad5-e5cf-394133a2a83f"
      },
      "source": [
        "df.groupby('Moega')[['Descarga','Turno']].count()\n"
      ],
      "execution_count": 81,
      "outputs": [
        {
          "output_type": "execute_result",
          "data": {
            "text/html": [
              "<div>\n",
              "<style scoped>\n",
              "    .dataframe tbody tr th:only-of-type {\n",
              "        vertical-align: middle;\n",
              "    }\n",
              "\n",
              "    .dataframe tbody tr th {\n",
              "        vertical-align: top;\n",
              "    }\n",
              "\n",
              "    .dataframe thead th {\n",
              "        text-align: right;\n",
              "    }\n",
              "</style>\n",
              "<table border=\"1\" class=\"dataframe\">\n",
              "  <thead>\n",
              "    <tr style=\"text-align: right;\">\n",
              "      <th></th>\n",
              "      <th>Descarga</th>\n",
              "      <th>Turno</th>\n",
              "    </tr>\n",
              "    <tr>\n",
              "      <th>Moega</th>\n",
              "      <th></th>\n",
              "      <th></th>\n",
              "    </tr>\n",
              "  </thead>\n",
              "  <tbody>\n",
              "    <tr>\n",
              "      <th>A</th>\n",
              "      <td>6</td>\n",
              "      <td>6</td>\n",
              "    </tr>\n",
              "    <tr>\n",
              "      <th>B</th>\n",
              "      <td>1339</td>\n",
              "      <td>1339</td>\n",
              "    </tr>\n",
              "    <tr>\n",
              "      <th>C</th>\n",
              "      <td>990</td>\n",
              "      <td>990</td>\n",
              "    </tr>\n",
              "    <tr>\n",
              "      <th>D</th>\n",
              "      <td>1300</td>\n",
              "      <td>1300</td>\n",
              "    </tr>\n",
              "  </tbody>\n",
              "</table>\n",
              "</div>"
            ],
            "text/plain": [
              "       Descarga  Turno\n",
              "Moega                 \n",
              "A             6      6\n",
              "B          1339   1339\n",
              "C           990    990\n",
              "D          1300   1300"
            ]
          },
          "metadata": {},
          "execution_count": 81
        }
      ]
    },
    {
      "cell_type": "code",
      "metadata": {
        "colab": {
          "base_uri": "https://localhost:8080/"
        },
        "id": "QGmGj1tk0ogs",
        "outputId": "30dd5267-a149-41c7-9799-028158234e53"
      },
      "source": [
        "df.groupby('Moega').size()"
      ],
      "execution_count": 82,
      "outputs": [
        {
          "output_type": "execute_result",
          "data": {
            "text/plain": [
              "Moega\n",
              "A       6\n",
              "B    1339\n",
              "C     990\n",
              "D    1300\n",
              "dtype: int64"
            ]
          },
          "metadata": {},
          "execution_count": 82
        }
      ]
    },
    {
      "cell_type": "code",
      "metadata": {
        "colab": {
          "base_uri": "https://localhost:8080/"
        },
        "id": "R3_Ry4T_QcLR",
        "outputId": "2b2ea88b-c285-43cc-8748-00665530e790"
      },
      "source": [
        "df.groupby('Horario').ngroups\n",
        "                           "
      ],
      "execution_count": 83,
      "outputs": [
        {
          "output_type": "execute_result",
          "data": {
            "text/plain": [
              "4"
            ]
          },
          "metadata": {},
          "execution_count": 83
        }
      ]
    },
    {
      "cell_type": "code",
      "metadata": {
        "id": "mcA6uHTfRneR"
      },
      "source": [
        "import matplotlib.pyplot as plt\n",
        "%matplotlib inline"
      ],
      "execution_count": 85,
      "outputs": []
    },
    {
      "cell_type": "code",
      "metadata": {
        "id": "tGYEJSDKTX4n"
      },
      "source": [
        "import pandas as pd \n",
        "import matplotlib.pyplot as plt "
      ],
      "execution_count": 87,
      "outputs": []
    },
    {
      "cell_type": "code",
      "metadata": {
        "colab": {
          "base_uri": "https://localhost:8080/"
        },
        "id": "tlhEyzOuTmYK",
        "outputId": "34152a5e-6815-4ff4-9f73-3c999e18c4eb"
      },
      "source": [
        "df.head().count\n"
      ],
      "execution_count": 88,
      "outputs": [
        {
          "output_type": "execute_result",
          "data": {
            "text/plain": [
              "<bound method DataFrame.count of          Data   Hora Moega          Horario  Turno     Trem    Descarga total\n",
              "0  18/10/2021  16:00     D  Turno 13 - 19 h      1  AMARELO  HPT0311227   NaN\n",
              "1  18/10/2021  16:00     D  Turno 13 - 19 h      1  AMARELO  FHS0523623   NaN\n",
              "2  18/10/2021  16:00     D  Turno 13 - 19 h      1  AMARELO  FHS6096239   NaN\n",
              "3  18/10/2021  15:38     D  Turno 13 - 19 h      1  AMARELO  FHS6096255   NaN\n",
              "4  18/10/2021  15:38     D  Turno 13 - 19 h      1  AMARELO  FHS6096255   NaN>"
            ]
          },
          "metadata": {},
          "execution_count": 88
        }
      ]
    },
    {
      "cell_type": "code",
      "metadata": {
        "colab": {
          "base_uri": "https://localhost:8080/"
        },
        "id": "XvwDMGF2X8g_",
        "outputId": "054d7503-9a37-4ef4-be92-a7403cdfec47"
      },
      "source": [
        "df.groupby([\"Moega\",\"Turno\"])[\"Descarga\"].count()"
      ],
      "execution_count": 89,
      "outputs": [
        {
          "output_type": "execute_result",
          "data": {
            "text/plain": [
              "Moega  Turno\n",
              "A      4          6\n",
              "B      1        214\n",
              "       2        265\n",
              "       3        298\n",
              "       4        277\n",
              "       5        285\n",
              "C      1        308\n",
              "       2        329\n",
              "       3        224\n",
              "       4        129\n",
              "D      1        270\n",
              "       2        184\n",
              "       3        370\n",
              "       4        235\n",
              "       5        241\n",
              "Name: Descarga, dtype: int64"
            ]
          },
          "metadata": {},
          "execution_count": 89
        }
      ]
    },
    {
      "cell_type": "code",
      "metadata": {
        "colab": {
          "base_uri": "https://localhost:8080/",
          "height": 285
        },
        "id": "GwGfvYQrc3fA",
        "outputId": "1c5d52e8-4943-41d3-bf53-ba9735afb8ea"
      },
      "source": [
        "df.groupby([\"Moega\",\"Turno\"])[\"Descarga\"].count().plot.barh()"
      ],
      "execution_count": 90,
      "outputs": [
        {
          "output_type": "execute_result",
          "data": {
            "text/plain": [
              "<matplotlib.axes._subplots.AxesSubplot at 0x7f0d813d3810>"
            ]
          },
          "metadata": {},
          "execution_count": 90
        },
        {
          "output_type": "display_data",
          "data": {
            "image/png": "[encoded data removed]",
            "text/plain": [
              "<Figure size 432x288 with 1 Axes>"
            ]
          },
          "metadata": {
            "needs_background": "light"
          }
        }
      ]
    },
    {
      "cell_type": "code",
      "metadata": {
        "colab": {
          "base_uri": "https://localhost:8080/"
        },
        "id": "uoeMLWfJX8wO",
        "outputId": "827b7e15-da25-4179-f5b1-a931e2a255d9"
      },
      "source": [
        "df.groupby([\"Moega\",\"Horario\",\"Turno\"])[\"Descarga\"].count()"
      ],
      "execution_count": 91,
      "outputs": [
        {
          "output_type": "execute_result",
          "data": {
            "text/plain": [
              "Moega  Horario          Turno\n",
              "A      Turno 19 - 01 h  4          6\n",
              "B      Turno 01 - 07 h  2         39\n",
              "                        3        154\n",
              "                        4         71\n",
              "                        5         82\n",
              "       Turno 07 - 13 h  1         99\n",
              "                        2         43\n",
              "                        3         74\n",
              "                        4         91\n",
              "                        5         96\n",
              "       Turno 13 - 19 h  1         52\n",
              "                        2        100\n",
              "                        3         14\n",
              "                        4         94\n",
              "                        5         76\n",
              "       Turno 19 - 01 h  1         63\n",
              "                        2         83\n",
              "                        3         56\n",
              "                        4         21\n",
              "                        5         31\n",
              "C      Turno 01 - 07 h  1         45\n",
              "                        2        186\n",
              "                        3        224\n",
              "       Turno 19 - 01 h  1        263\n",
              "                        2        143\n",
              "                        4        129\n",
              "D      Turno 01 - 07 h  2         64\n",
              "                        3        214\n",
              "                        4         50\n",
              "       Turno 07 - 13 h  1         76\n",
              "                        2         23\n",
              "                        3         71\n",
              "                        4         12\n",
              "                        5        134\n",
              "       Turno 13 - 19 h  1         71\n",
              "                        2         64\n",
              "                        3         26\n",
              "                        4         95\n",
              "                        5         60\n",
              "       Turno 19 - 01 h  1        123\n",
              "                        2         33\n",
              "                        3         59\n",
              "                        4         78\n",
              "                        5         47\n",
              "Name: Descarga, dtype: int64"
            ]
          },
          "metadata": {},
          "execution_count": 91
        }
      ]
    },
    {
      "cell_type": "code",
      "metadata": {
        "colab": {
          "base_uri": "https://localhost:8080/",
          "height": 414
        },
        "id": "WTbNhQ7FnANe",
        "outputId": "a33d733a-5514-483c-b043-b17960416ebb"
      },
      "source": [
        "df.apply(pd.value_counts).fillna(0)"
      ],
      "execution_count": 92,
      "outputs": [
        {
          "output_type": "execute_result",
          "data": {
            "text/html": [
              "<div>\n",
              "<style scoped>\n",
              "    .dataframe tbody tr th:only-of-type {\n",
              "        vertical-align: middle;\n",
              "    }\n",
              "\n",
              "    .dataframe tbody tr th {\n",
              "        vertical-align: top;\n",
              "    }\n",
              "\n",
              "    .dataframe thead th {\n",
              "        text-align: right;\n",
              "    }\n",
              "</style>\n",
              "<table border=\"1\" class=\"dataframe\">\n",
              "  <thead>\n",
              "    <tr style=\"text-align: right;\">\n",
              "      <th></th>\n",
              "      <th>Data</th>\n",
              "      <th>Hora</th>\n",
              "      <th>Moega</th>\n",
              "      <th>Horario</th>\n",
              "      <th>Turno</th>\n",
              "      <th>Trem</th>\n",
              "      <th>Descarga</th>\n",
              "      <th>total</th>\n",
              "    </tr>\n",
              "  </thead>\n",
              "  <tbody>\n",
              "    <tr>\n",
              "      <th>1</th>\n",
              "      <td>0.0</td>\n",
              "      <td>0.0</td>\n",
              "      <td>0.0</td>\n",
              "      <td>0.0</td>\n",
              "      <td>792.0</td>\n",
              "      <td>0.0</td>\n",
              "      <td>0.0</td>\n",
              "      <td>0.0</td>\n",
              "    </tr>\n",
              "    <tr>\n",
              "      <th>2</th>\n",
              "      <td>0.0</td>\n",
              "      <td>0.0</td>\n",
              "      <td>0.0</td>\n",
              "      <td>0.0</td>\n",
              "      <td>778.0</td>\n",
              "      <td>0.0</td>\n",
              "      <td>0.0</td>\n",
              "      <td>0.0</td>\n",
              "    </tr>\n",
              "    <tr>\n",
              "      <th>3</th>\n",
              "      <td>0.0</td>\n",
              "      <td>0.0</td>\n",
              "      <td>0.0</td>\n",
              "      <td>0.0</td>\n",
              "      <td>892.0</td>\n",
              "      <td>0.0</td>\n",
              "      <td>0.0</td>\n",
              "      <td>0.0</td>\n",
              "    </tr>\n",
              "    <tr>\n",
              "      <th>4</th>\n",
              "      <td>0.0</td>\n",
              "      <td>0.0</td>\n",
              "      <td>0.0</td>\n",
              "      <td>0.0</td>\n",
              "      <td>647.0</td>\n",
              "      <td>0.0</td>\n",
              "      <td>0.0</td>\n",
              "      <td>0.0</td>\n",
              "    </tr>\n",
              "    <tr>\n",
              "      <th>5</th>\n",
              "      <td>0.0</td>\n",
              "      <td>0.0</td>\n",
              "      <td>0.0</td>\n",
              "      <td>0.0</td>\n",
              "      <td>526.0</td>\n",
              "      <td>0.0</td>\n",
              "      <td>0.0</td>\n",
              "      <td>0.0</td>\n",
              "    </tr>\n",
              "    <tr>\n",
              "      <th>...</th>\n",
              "      <td>...</td>\n",
              "      <td>...</td>\n",
              "      <td>...</td>\n",
              "      <td>...</td>\n",
              "      <td>...</td>\n",
              "      <td>...</td>\n",
              "      <td>...</td>\n",
              "      <td>...</td>\n",
              "    </tr>\n",
              "    <tr>\n",
              "      <th>Turno 07 - 13 h</th>\n",
              "      <td>0.0</td>\n",
              "      <td>0.0</td>\n",
              "      <td>0.0</td>\n",
              "      <td>719.0</td>\n",
              "      <td>0.0</td>\n",
              "      <td>0.0</td>\n",
              "      <td>0.0</td>\n",
              "      <td>0.0</td>\n",
              "    </tr>\n",
              "    <tr>\n",
              "      <th>Turno 13 - 19 h</th>\n",
              "      <td>0.0</td>\n",
              "      <td>0.0</td>\n",
              "      <td>0.0</td>\n",
              "      <td>652.0</td>\n",
              "      <td>0.0</td>\n",
              "      <td>0.0</td>\n",
              "      <td>0.0</td>\n",
              "      <td>0.0</td>\n",
              "    </tr>\n",
              "    <tr>\n",
              "      <th>Turno 19 - 01 h</th>\n",
              "      <td>0.0</td>\n",
              "      <td>0.0</td>\n",
              "      <td>0.0</td>\n",
              "      <td>1135.0</td>\n",
              "      <td>0.0</td>\n",
              "      <td>0.0</td>\n",
              "      <td>0.0</td>\n",
              "      <td>0.0</td>\n",
              "    </tr>\n",
              "    <tr>\n",
              "      <th>VERDE</th>\n",
              "      <td>0.0</td>\n",
              "      <td>0.0</td>\n",
              "      <td>0.0</td>\n",
              "      <td>0.0</td>\n",
              "      <td>0.0</td>\n",
              "      <td>778.0</td>\n",
              "      <td>0.0</td>\n",
              "      <td>0.0</td>\n",
              "    </tr>\n",
              "    <tr>\n",
              "      <th>VERMELHO</th>\n",
              "      <td>0.0</td>\n",
              "      <td>0.0</td>\n",
              "      <td>0.0</td>\n",
              "      <td>0.0</td>\n",
              "      <td>0.0</td>\n",
              "      <td>526.0</td>\n",
              "      <td>0.0</td>\n",
              "      <td>0.0</td>\n",
              "    </tr>\n",
              "  </tbody>\n",
              "</table>\n",
              "<p>3247 rows × 8 columns</p>\n",
              "</div>"
            ],
            "text/plain": [
              "                 Data  Hora  Moega  Horario  Turno   Trem  Descarga  total\n",
              "1                 0.0   0.0    0.0      0.0  792.0    0.0       0.0    0.0\n",
              "2                 0.0   0.0    0.0      0.0  778.0    0.0       0.0    0.0\n",
              "3                 0.0   0.0    0.0      0.0  892.0    0.0       0.0    0.0\n",
              "4                 0.0   0.0    0.0      0.0  647.0    0.0       0.0    0.0\n",
              "5                 0.0   0.0    0.0      0.0  526.0    0.0       0.0    0.0\n",
              "...               ...   ...    ...      ...    ...    ...       ...    ...\n",
              "Turno 07 - 13 h   0.0   0.0    0.0    719.0    0.0    0.0       0.0    0.0\n",
              "Turno 13 - 19 h   0.0   0.0    0.0    652.0    0.0    0.0       0.0    0.0\n",
              "Turno 19 - 01 h   0.0   0.0    0.0   1135.0    0.0    0.0       0.0    0.0\n",
              "VERDE             0.0   0.0    0.0      0.0    0.0  778.0       0.0    0.0\n",
              "VERMELHO          0.0   0.0    0.0      0.0    0.0  526.0       0.0    0.0\n",
              "\n",
              "[3247 rows x 8 columns]"
            ]
          },
          "metadata": {},
          "execution_count": 92
        }
      ]
    },
    {
      "cell_type": "code",
      "metadata": {
        "colab": {
          "base_uri": "https://localhost:8080/"
        },
        "id": "uv__TB8bnAZq",
        "outputId": "d4467d5b-9c24-4b93-9718-186e87bc2022"
      },
      "source": [
        "df['Moega'].value_counts()"
      ],
      "execution_count": 93,
      "outputs": [
        {
          "output_type": "execute_result",
          "data": {
            "text/plain": [
              "B    1339\n",
              "D    1300\n",
              "C     990\n",
              "A       6\n",
              "Name: Moega, dtype: int64"
            ]
          },
          "metadata": {},
          "execution_count": 93
        }
      ]
    },
    {
      "cell_type": "code",
      "metadata": {
        "colab": {
          "base_uri": "https://localhost:8080/",
          "height": 285
        },
        "id": "ElSNYazNoC4B",
        "outputId": "07474525-9ba4-4158-cee8-f4dc0e43d8ee"
      },
      "source": [
        "df.Turno.value_counts().plot.barh()"
      ],
      "execution_count": 94,
      "outputs": [
        {
          "output_type": "execute_result",
          "data": {
            "text/plain": [
              "<matplotlib.axes._subplots.AxesSubplot at 0x7f0d80870a90>"
            ]
          },
          "metadata": {},
          "execution_count": 94
        },
        {
          "output_type": "display_data",
          "data": {
            "image/png": "[encoded data removed]",
            "text/plain": [
              "<Figure size 432x288 with 1 Axes>"
            ]
          },
          "metadata": {
            "needs_background": "light"
          }
        }
      ]
    },
    {
      "cell_type": "code",
      "metadata": {
        "colab": {
          "base_uri": "https://localhost:8080/"
        },
        "id": "Rx7XM62NoDEz",
        "outputId": "f6bc957a-ae8b-4452-a763-f78c42a6f4eb"
      },
      "source": [
        "freq = df.groupby(['Turno']).count() \n",
        "print(freq)\n",
        "\n"
      ],
      "execution_count": 95,
      "outputs": [
        {
          "output_type": "stream",
          "name": "stdout",
          "text": [
            "       Data  Hora  Moega  Horario  Trem  Descarga  total\n",
            "Turno                                                   \n",
            "1       792   792    792      792   792       792      0\n",
            "2       778   778    778      778   778       778      0\n",
            "3       892   892    892      892   892       892      0\n",
            "4       647   647    647      647   647       647      0\n",
            "5       526   526    526      526   526       526      0\n"
          ]
        }
      ]
    },
    {
      "cell_type": "code",
      "metadata": {
        "colab": {
          "base_uri": "https://localhost:8080/"
        },
        "id": "1I_BTia8rsRy",
        "outputId": "99154582-b27f-4983-ba85-dde969584740"
      },
      "source": [
        "freq = df['Moega'].value_counts() \n",
        "print(freq) "
      ],
      "execution_count": 96,
      "outputs": [
        {
          "output_type": "stream",
          "name": "stdout",
          "text": [
            "B    1339\n",
            "D    1300\n",
            "C     990\n",
            "A       6\n",
            "Name: Moega, dtype: int64\n"
          ]
        }
      ]
    },
    {
      "cell_type": "code",
      "metadata": {
        "colab": {
          "base_uri": "https://localhost:8080/"
        },
        "id": "LyRJwTMMrsbJ",
        "outputId": "9d773683-30bf-4fb2-e5cf-07dafaaf5a13"
      },
      "source": [
        "freq = df.groupby(['Moega', 'Turno']).size()\n",
        "print(freq)"
      ],
      "execution_count": 97,
      "outputs": [
        {
          "output_type": "stream",
          "name": "stdout",
          "text": [
            "Moega  Turno\n",
            "A      4          6\n",
            "B      1        214\n",
            "       2        265\n",
            "       3        298\n",
            "       4        277\n",
            "       5        285\n",
            "C      1        308\n",
            "       2        329\n",
            "       3        224\n",
            "       4        129\n",
            "D      1        270\n",
            "       2        184\n",
            "       3        370\n",
            "       4        235\n",
            "       5        241\n",
            "dtype: int64\n"
          ]
        }
      ]
    },
    {
      "cell_type": "code",
      "metadata": {
        "colab": {
          "base_uri": "https://localhost:8080/",
          "height": 267
        },
        "id": "_p5-M8Ris9IH",
        "outputId": "40cbf886-e4ce-410b-eab4-d6228ff4efbc"
      },
      "source": [
        "freq = df.groupby(['Horario']).size().plot.barh()\n"
      ],
      "execution_count": 98,
      "outputs": [
        {
          "output_type": "display_data",
          "data": {
            "image/png": "[encoded data removed]",
            "text/plain": [
              "<Figure size 432x288 with 1 Axes>"
            ]
          },
          "metadata": {
            "needs_background": "light"
          }
        }
      ]
    },
    {
      "cell_type": "code",
      "metadata": {
        "colab": {
          "base_uri": "https://localhost:8080/",
          "height": 447
        },
        "id": "lDMFD8DOrsl7",
        "outputId": "4e26a660-18e2-44b0-e478-97a470d85b55"
      },
      "source": [
        "df.set_index('Moega', inplace=True)\n",
        "df.head(12)"
      ],
      "execution_count": 99,
      "outputs": [
        {
          "output_type": "execute_result",
          "data": {
            "text/html": [
              "<div>\n",
              "<style scoped>\n",
              "    .dataframe tbody tr th:only-of-type {\n",
              "        vertical-align: middle;\n",
              "    }\n",
              "\n",
              "    .dataframe tbody tr th {\n",
              "        vertical-align: top;\n",
              "    }\n",
              "\n",
              "    .dataframe thead th {\n",
              "        text-align: right;\n",
              "    }\n",
              "</style>\n",
              "<table border=\"1\" class=\"dataframe\">\n",
              "  <thead>\n",
              "    <tr style=\"text-align: right;\">\n",
              "      <th></th>\n",
              "      <th>Data</th>\n",
              "      <th>Hora</th>\n",
              "      <th>Horario</th>\n",
              "      <th>Turno</th>\n",
              "      <th>Trem</th>\n",
              "      <th>Descarga</th>\n",
              "      <th>total</th>\n",
              "    </tr>\n",
              "    <tr>\n",
              "      <th>Moega</th>\n",
              "      <th></th>\n",
              "      <th></th>\n",
              "      <th></th>\n",
              "      <th></th>\n",
              "      <th></th>\n",
              "      <th></th>\n",
              "      <th></th>\n",
              "    </tr>\n",
              "  </thead>\n",
              "  <tbody>\n",
              "    <tr>\n",
              "      <th>D</th>\n",
              "      <td>18/10/2021</td>\n",
              "      <td>16:00</td>\n",
              "      <td>Turno 13 - 19 h</td>\n",
              "      <td>1</td>\n",
              "      <td>AMARELO</td>\n",
              "      <td>HPT0311227</td>\n",
              "      <td>NaN</td>\n",
              "    </tr>\n",
              "    <tr>\n",
              "      <th>D</th>\n",
              "      <td>18/10/2021</td>\n",
              "      <td>16:00</td>\n",
              "      <td>Turno 13 - 19 h</td>\n",
              "      <td>1</td>\n",
              "      <td>AMARELO</td>\n",
              "      <td>FHS0523623</td>\n",
              "      <td>NaN</td>\n",
              "    </tr>\n",
              "    <tr>\n",
              "      <th>D</th>\n",
              "      <td>18/10/2021</td>\n",
              "      <td>16:00</td>\n",
              "      <td>Turno 13 - 19 h</td>\n",
              "      <td>1</td>\n",
              "      <td>AMARELO</td>\n",
              "      <td>FHS6096239</td>\n",
              "      <td>NaN</td>\n",
              "    </tr>\n",
              "    <tr>\n",
              "      <th>D</th>\n",
              "      <td>18/10/2021</td>\n",
              "      <td>15:38</td>\n",
              "      <td>Turno 13 - 19 h</td>\n",
              "      <td>1</td>\n",
              "      <td>AMARELO</td>\n",
              "      <td>FHS6096255</td>\n",
              "      <td>NaN</td>\n",
              "    </tr>\n",
              "    <tr>\n",
              "      <th>D</th>\n",
              "      <td>18/10/2021</td>\n",
              "      <td>15:38</td>\n",
              "      <td>Turno 13 - 19 h</td>\n",
              "      <td>1</td>\n",
              "      <td>AMARELO</td>\n",
              "      <td>FHS6096255</td>\n",
              "      <td>NaN</td>\n",
              "    </tr>\n",
              "    <tr>\n",
              "      <th>D</th>\n",
              "      <td>18/10/2021</td>\n",
              "      <td>15:38</td>\n",
              "      <td>Turno 13 - 19 h</td>\n",
              "      <td>1</td>\n",
              "      <td>AMARELO</td>\n",
              "      <td>FHS6096328</td>\n",
              "      <td>NaN</td>\n",
              "    </tr>\n",
              "    <tr>\n",
              "      <th>D</th>\n",
              "      <td>18/10/2021</td>\n",
              "      <td>15:18</td>\n",
              "      <td>Turno 13 - 19 h</td>\n",
              "      <td>1</td>\n",
              "      <td>AMARELO</td>\n",
              "      <td>FHS6096361</td>\n",
              "      <td>NaN</td>\n",
              "    </tr>\n",
              "    <tr>\n",
              "      <th>D</th>\n",
              "      <td>18/10/2021</td>\n",
              "      <td>15:18</td>\n",
              "      <td>Turno 13 - 19 h</td>\n",
              "      <td>1</td>\n",
              "      <td>AMARELO</td>\n",
              "      <td>FHS6096361</td>\n",
              "      <td>NaN</td>\n",
              "    </tr>\n",
              "    <tr>\n",
              "      <th>D</th>\n",
              "      <td>18/10/2021</td>\n",
              "      <td>15:17</td>\n",
              "      <td>Turno 13 - 19 h</td>\n",
              "      <td>1</td>\n",
              "      <td>AMARELO</td>\n",
              "      <td>FHS6096387</td>\n",
              "      <td>NaN</td>\n",
              "    </tr>\n",
              "    <tr>\n",
              "      <th>D</th>\n",
              "      <td>18/10/2021</td>\n",
              "      <td>14:31</td>\n",
              "      <td>Turno 13 - 19 h</td>\n",
              "      <td>1</td>\n",
              "      <td>AMARELO</td>\n",
              "      <td>FHS6096417</td>\n",
              "      <td>NaN</td>\n",
              "    </tr>\n",
              "    <tr>\n",
              "      <th>D</th>\n",
              "      <td>18/10/2021</td>\n",
              "      <td>14:31</td>\n",
              "      <td>Turno 13 - 19 h</td>\n",
              "      <td>1</td>\n",
              "      <td>AMARELO</td>\n",
              "      <td>FHS6096441</td>\n",
              "      <td>NaN</td>\n",
              "    </tr>\n",
              "    <tr>\n",
              "      <th>D</th>\n",
              "      <td>18/10/2021</td>\n",
              "      <td>14:30</td>\n",
              "      <td>Turno 13 - 19 h</td>\n",
              "      <td>1</td>\n",
              "      <td>AMARELO</td>\n",
              "      <td>FHS6096484</td>\n",
              "      <td>NaN</td>\n",
              "    </tr>\n",
              "  </tbody>\n",
              "</table>\n",
              "</div>"
            ],
            "text/plain": [
              "             Data   Hora          Horario  Turno     Trem    Descarga total\n",
              "Moega                                                                      \n",
              "D      18/10/2021  16:00  Turno 13 - 19 h      1  AMARELO  HPT0311227   NaN\n",
              "D      18/10/2021  16:00  Turno 13 - 19 h      1  AMARELO  FHS0523623   NaN\n",
              "D      18/10/2021  16:00  Turno 13 - 19 h      1  AMARELO  FHS6096239   NaN\n",
              "D      18/10/2021  15:38  Turno 13 - 19 h      1  AMARELO  FHS6096255   NaN\n",
              "D      18/10/2021  15:38  Turno 13 - 19 h      1  AMARELO  FHS6096255   NaN\n",
              "D      18/10/2021  15:38  Turno 13 - 19 h      1  AMARELO  FHS6096328   NaN\n",
              "D      18/10/2021  15:18  Turno 13 - 19 h      1  AMARELO  FHS6096361   NaN\n",
              "D      18/10/2021  15:18  Turno 13 - 19 h      1  AMARELO  FHS6096361   NaN\n",
              "D      18/10/2021  15:17  Turno 13 - 19 h      1  AMARELO  FHS6096387   NaN\n",
              "D      18/10/2021  14:31  Turno 13 - 19 h      1  AMARELO  FHS6096417   NaN\n",
              "D      18/10/2021  14:31  Turno 13 - 19 h      1  AMARELO  FHS6096441   NaN\n",
              "D      18/10/2021  14:30  Turno 13 - 19 h      1  AMARELO  FHS6096484   NaN"
            ]
          },
          "metadata": {},
          "execution_count": 99
        }
      ]
    },
    {
      "cell_type": "code",
      "metadata": {
        "colab": {
          "base_uri": "https://localhost:8080/",
          "height": 268
        },
        "id": "Fx5TCBskHk9r",
        "outputId": "46c83b8c-9d6c-4b19-9e54-8fd49c0c7c8f"
      },
      "source": [
        "%matplotlib inline\n",
        "import seaborn as sns\n",
        "\n",
        "sns.set(style=\"whitegrid\", color_codes=True)\n",
        "iris = sns.load_dataset(\"iris\")\n",
        "\n",
        "\n",
        "sns.boxplot(data=iris);\n"
      ],
      "execution_count": 100,
      "outputs": [
        {
          "output_type": "display_data",
          "data": {
            "image/png": "[encoded data removed]",
            "text/plain": [
              "<Figure size 432x288 with 1 Axes>"
            ]
          },
          "metadata": {}
        }
      ]
    },
    {
      "cell_type": "code",
      "metadata": {
        "colab": {
          "base_uri": "https://localhost:8080/",
          "height": 285
        },
        "id": "4Yv4ccBKJJ2E",
        "outputId": "8a4c2cc1-266c-4cb4-cb83-12f17a727e01"
      },
      "source": [
        "\n",
        "df.groupby('Turno')['Descarga'].count().plot.barh()\n"
      ],
      "execution_count": 101,
      "outputs": [
        {
          "output_type": "execute_result",
          "data": {
            "text/plain": [
              "<matplotlib.axes._subplots.AxesSubplot at 0x7f0d806f3e90>"
            ]
          },
          "metadata": {},
          "execution_count": 101
        },
        {
          "output_type": "display_data",
          "data": {
            "image/png": "[encoded data removed]",
            "text/plain": [
              "<Figure size 432x288 with 1 Axes>"
            ]
          },
          "metadata": {}
        }
      ]
    },
    {
      "cell_type": "code",
      "metadata": {
        "colab": {
          "base_uri": "https://localhost:8080/",
          "height": 285
        },
        "id": "cpwxvsk6OPiL",
        "outputId": "21f7f507-3764-48b6-e6d3-52047a7aba17"
      },
      "source": [
        "df.groupby('Moega')[u'Horario'].value_counts().plot.barh()"
      ],
      "execution_count": 102,
      "outputs": [
        {
          "output_type": "execute_result",
          "data": {
            "text/plain": [
              "<matplotlib.axes._subplots.AxesSubplot at 0x7f0d80684850>"
            ]
          },
          "metadata": {},
          "execution_count": 102
        },
        {
          "output_type": "display_data",
          "data": {
            "image/png": "[encoded data removed]",
            "text/plain": [
              "<Figure size 432x288 with 1 Axes>"
            ]
          },
          "metadata": {}
        }
      ]
    },
    {
      "cell_type": "code",
      "metadata": {
        "colab": {
          "base_uri": "https://localhost:8080/",
          "height": 285
        },
        "id": "r2sR7NxKOPXL",
        "outputId": "9c8f6e32-78a7-41df-8672-14ec2d4a694f"
      },
      "source": [
        "df[u\"Turno\"].value_counts().plot.barh()"
      ],
      "execution_count": 103,
      "outputs": [
        {
          "output_type": "execute_result",
          "data": {
            "text/plain": [
              "<matplotlib.axes._subplots.AxesSubplot at 0x7f0d805b56d0>"
            ]
          },
          "metadata": {},
          "execution_count": 103
        },
        {
          "output_type": "display_data",
          "data": {
            "image/png": "[encoded data removed]",
            "text/plain": [
              "<Figure size 432x288 with 1 Axes>"
            ]
          },
          "metadata": {}
        }
      ]
    },
    {
      "cell_type": "code",
      "metadata": {
        "id": "1kds3HQDRIfI"
      },
      "source": [
        ""
      ],
      "execution_count": 50,
      "outputs": []
    },
    {
      "cell_type": "code",
      "metadata": {
        "id": "zsDgYz6CRIp0"
      },
      "source": [
        ""
      ],
      "execution_count": 50,
      "outputs": []
    },
    {
      "cell_type": "code",
      "metadata": {
        "id": "RNlLvaIbRIzg"
      },
      "source": [
        ""
      ],
      "execution_count": 50,
      "outputs": []
    }
  ]
}